{
 "cells": [
  {
   "cell_type": "markdown",
   "metadata": {},
   "source": [
    "- Reads in .txt files one at a time\n",
    "- Grabs the title and splits the lines into character and dialogue\n",
    "- Does some other cleaning\n",
    "- Stores it in a df\n",
    "- Adds the season number\n",
    "- Saves it to only_spoken_text.csv"
   ]
  },
  {
   "cell_type": "code",
   "execution_count": 1,
   "metadata": {},
   "outputs": [],
   "source": [
    "import spacy, os, re\n",
    "import pandas as pd\n",
    "import matplotlib.pyplot as plt"
   ]
  },
  {
   "cell_type": "code",
   "execution_count": null,
   "metadata": {},
   "outputs": [],
   "source": [
    "# old way\n",
    "\"\"\"\n",
    "for file in os.listdir(\"transcripts\"):\n",
    "    \n",
    "    # Read in file\n",
    "    f = open(os.path.join('transcripts', file), encoding='utf-8-sig')\n",
    "    data = f.read()\n",
    "    f.close()\n",
    "    \n",
    "    data = data.split('\\n')\n",
    "    # Split each line into character and line\n",
    "    data = [[line.split(':')[0], \" \".join(line.split(\":\")[1:])] for line in data]\n",
    "    title = data[0]\n",
    "    lines = data[1:]\n",
    "        \n",
    "    # Make new df and append it\n",
    "    lines_df = pd.DataFrame(lines, columns=['Character', 'Line'])\n",
    "    lines_df['Episode'] = [title[0]] * len(lines)\n",
    "    all_lines_df = all_lines_df.append(lines_df, ignore_index=True)\n",
    "\"\"\""
   ]
  },
  {
   "cell_type": "markdown",
   "metadata": {},
   "source": [
    "# Combine and Clean Data"
   ]
  },
  {
   "cell_type": "code",
   "execution_count": 167,
   "metadata": {},
   "outputs": [],
   "source": [
    "all_lines_df = pd.DataFrame(columns=['Character', 'Line', 'Episode'])\n",
    "for file in os.listdir(\"transcripts\"):\n",
    "    # Read in file\n",
    "    f = open(os.path.join('transcripts', file), encoding='utf-8-sig')\n",
    "    data = f.read()\n",
    "    f.close()\n",
    "    \n",
    "    data = data.split('\\n')\n",
    "    title = data[0]\n",
    "    lines = data[1:]\n",
    "    # Split each line into character and line\n",
    "    data = []\n",
    "    for line in lines:\n",
    "        if ':' in line:\n",
    "            data.append([line.split(':')[0], \" \".join(line.split(\":\")[1:])])\n",
    "            continue\n",
    "        if '[' in line: # might miss a handful of lines throughout the episodes\n",
    "            continue\n",
    "        if len(line) == 0: # removes blank lines (often one at beginning and/or end)\n",
    "            continue\n",
    "        # hopefully just text that belongs with above line left (ex. when characters are singing)\n",
    "        txt = data.pop()\n",
    "        txt[1] = txt[1] + \" \" + line\n",
    "        data.append(txt)\n",
    "          \n",
    "    # Make new df and append it\n",
    "    lines_df = pd.DataFrame(data, columns=['Character', 'Line'])\n",
    "    lines_df['Episode'] = [title] * len(data)\n",
    "    all_lines_df = all_lines_df.append(lines_df, ignore_index=True)\n",
    "\n",
    "all_lines_df = all_lines_df[['Episode', 'Character', 'Line']]\n",
    "all_lines_df['Character'] = all_lines_df['Character'].str.replace('Professor Farnsworth', 'Farnsworth')\n",
    "# Fix titles so they match up with episode_list.csv - fixed in .txt files\n",
    "#all_lines_df['Episode'] = all_lines_df['Episode'].str.replace('Bender Should Not Be Allowed on Television', 'Bender Should Not Be Allowed on TV')\n",
    "#all_lines_df['Episode'] = all_lines_df['Episode'].str.replace('Less than Hero', 'Less Than Hero')\n",
    "#all_lines_df['Episode'] = all_lines_df['Episode'].str.replace('Roswell that Ends Well', 'Roswell That Ends Well')\n",
    "#all_lines_df['Episode'] = all_lines_df['Episode'].str.replace('I Second that Emotion', 'I Second That Emotion')\n",
    "#all_lines_df['Episode'] = all_lines_df['Episode'].str.replace(\"Time Keeps on Slippin'\", \"Time Keeps On Slippin'\")\n",
    "#set(all_lines_df['Episode'].unique()).difference(set(episode_df['Title'])) # to check if all the titles matched up\n",
    "\n",
    "# Get rid of scene text in [ ] (text in the transcripts that isn't spoken)\n",
    "all_lines_df['Line'] = all_lines_df['Line'].apply(lambda x: re.sub('\\s?\\[(.*?)\\]', '', x))\n",
    "\n",
    "# Add season number\n",
    "episode_df = pd.read_csv('episode_list.csv').drop(['Director(s)', 'Writer(s)', 'Air Date', 'Episode in Season'], axis=1)\n",
    "all_lines_df = pd.merge(all_lines_df, episode_df, left_on='Episode', right_on='Title', copy=True)\n",
    "all_lines_df.drop(['Episode_y', 'Title'], axis=1, inplace=True) # drop extra columns\n",
    "all_lines_df.rename(columns={\"Episode_x\": \"Episode\"}, inplace=True) \n",
    "all_lines_df = all_lines_df[['Season', 'Episode', 'Character', 'Line']]\n",
    "\n",
    "# Save it\n",
    "#all_lines_df.to_csv(\"all_lines.csv\", index=False)\n",
    "#all_lines_df.to_csv(\"only_spoken_text.csv\", index=False) # this one now"
   ]
  },
  {
   "cell_type": "code",
   "execution_count": 168,
   "metadata": {},
   "outputs": [
    {
     "data": {
      "text/plain": [
       "23812"
      ]
     },
     "execution_count": 168,
     "metadata": {},
     "output_type": "execute_result"
    }
   ],
   "source": [
    "len(all_lines_df)"
   ]
  },
  {
   "cell_type": "markdown",
   "metadata": {},
   "source": [
    "# Testing"
   ]
  },
  {
   "cell_type": "code",
   "execution_count": 170,
   "metadata": {},
   "outputs": [
    {
     "data": {
      "text/html": [
       "<div>\n",
       "<style scoped>\n",
       "    .dataframe tbody tr th:only-of-type {\n",
       "        vertical-align: middle;\n",
       "    }\n",
       "\n",
       "    .dataframe tbody tr th {\n",
       "        vertical-align: top;\n",
       "    }\n",
       "\n",
       "    .dataframe thead th {\n",
       "        text-align: right;\n",
       "    }\n",
       "</style>\n",
       "<table border=\"1\" class=\"dataframe\">\n",
       "  <thead>\n",
       "    <tr style=\"text-align: right;\">\n",
       "      <th></th>\n",
       "      <th>Season</th>\n",
       "      <th>Episode</th>\n",
       "      <th>Character</th>\n",
       "      <th>Line</th>\n",
       "    </tr>\n",
       "  </thead>\n",
       "  <tbody>\n",
       "    <tr>\n",
       "      <td>0</td>\n",
       "      <td>1</td>\n",
       "      <td>Space Pilot 3000</td>\n",
       "      <td>Fry</td>\n",
       "      <td>Space. It seems to go on and on forever. But ...</td>\n",
       "    </tr>\n",
       "    <tr>\n",
       "      <td>1</td>\n",
       "      <td>1</td>\n",
       "      <td>Space Pilot 3000</td>\n",
       "      <td>Fry</td>\n",
       "      <td>And that's how you play the game!</td>\n",
       "    </tr>\n",
       "    <tr>\n",
       "      <td>2</td>\n",
       "      <td>1</td>\n",
       "      <td>Space Pilot 3000</td>\n",
       "      <td>Boy</td>\n",
       "      <td>You stink, loser!</td>\n",
       "    </tr>\n",
       "    <tr>\n",
       "      <td>3</td>\n",
       "      <td>1</td>\n",
       "      <td>Space Pilot 3000</td>\n",
       "      <td>Panucci</td>\n",
       "      <td>Hey, Fry. Pizza goin' out! C'mon!!</td>\n",
       "    </tr>\n",
       "    <tr>\n",
       "      <td>4</td>\n",
       "      <td>1</td>\n",
       "      <td>Space Pilot 3000</td>\n",
       "      <td>Fry</td>\n",
       "      <td>Michelle, baby! Where you going?</td>\n",
       "    </tr>\n",
       "  </tbody>\n",
       "</table>\n",
       "</div>"
      ],
      "text/plain": [
       "   Season           Episode Character  \\\n",
       "0       1  Space Pilot 3000       Fry   \n",
       "1       1  Space Pilot 3000       Fry   \n",
       "2       1  Space Pilot 3000       Boy   \n",
       "3       1  Space Pilot 3000   Panucci   \n",
       "4       1  Space Pilot 3000       Fry   \n",
       "\n",
       "                                                Line  \n",
       "0   Space. It seems to go on and on forever. But ...  \n",
       "1                  And that's how you play the game!  \n",
       "2                                  You stink, loser!  \n",
       "3                 Hey, Fry. Pizza goin' out! C'mon!!  \n",
       "4                   Michelle, baby! Where you going?  "
      ]
     },
     "execution_count": 170,
     "metadata": {},
     "output_type": "execute_result"
    }
   ],
   "source": [
    "all_lines_df.head()"
   ]
  },
  {
   "cell_type": "code",
   "execution_count": 169,
   "metadata": {},
   "outputs": [
    {
     "data": {
      "text/html": [
       "<div>\n",
       "<style scoped>\n",
       "    .dataframe tbody tr th:only-of-type {\n",
       "        vertical-align: middle;\n",
       "    }\n",
       "\n",
       "    .dataframe tbody tr th {\n",
       "        vertical-align: top;\n",
       "    }\n",
       "\n",
       "    .dataframe thead th {\n",
       "        text-align: right;\n",
       "    }\n",
       "</style>\n",
       "<table border=\"1\" class=\"dataframe\">\n",
       "  <thead>\n",
       "    <tr style=\"text-align: right;\">\n",
       "      <th></th>\n",
       "      <th>Season</th>\n",
       "      <th>Episode</th>\n",
       "      <th>Character</th>\n",
       "      <th>Line</th>\n",
       "    </tr>\n",
       "  </thead>\n",
       "  <tbody>\n",
       "    <tr>\n",
       "      <td>2747</td>\n",
       "      <td>6</td>\n",
       "      <td>Fry Am the Egg Man</td>\n",
       "      <td>Fry</td>\n",
       "      <td>Yeah! Let's do those Leela things.</td>\n",
       "    </tr>\n",
       "    <tr>\n",
       "      <td>2748</td>\n",
       "      <td>6</td>\n",
       "      <td>Fry Am the Egg Man</td>\n",
       "      <td>Fry</td>\n",
       "      <td>Well, buddy, how d'ya like your new home? See...</td>\n",
       "    </tr>\n",
       "    <tr>\n",
       "      <td>2749</td>\n",
       "      <td>6</td>\n",
       "      <td>Fry Am the Egg Man</td>\n",
       "      <td>Hermes</td>\n",
       "      <td>That thing doesn't have emotions, Fry. Its br...</td>\n",
       "    </tr>\n",
       "    <tr>\n",
       "      <td>2750</td>\n",
       "      <td>6</td>\n",
       "      <td>Fry Am the Egg Man</td>\n",
       "      <td>Fry</td>\n",
       "      <td>So are walnuts and they're delicious. I'll mi...</td>\n",
       "    </tr>\n",
       "    <tr>\n",
       "      <td>2751</td>\n",
       "      <td>6</td>\n",
       "      <td>Fry Am the Egg Man</td>\n",
       "      <td>Leela</td>\n",
       "      <td>Come on, Fry. Let's go home an'—</td>\n",
       "    </tr>\n",
       "    <tr>\n",
       "      <td>2752</td>\n",
       "      <td>6</td>\n",
       "      <td>Fry Am the Egg Man</td>\n",
       "      <td>Bender</td>\n",
       "      <td>Hold up! There's alcohol around here somewher...</td>\n",
       "    </tr>\n",
       "    <tr>\n",
       "      <td>2753</td>\n",
       "      <td>6</td>\n",
       "      <td>Fry Am the Egg Man</td>\n",
       "      <td>Zoidberg</td>\n",
       "      <td>We're not from around here. Hello!</td>\n",
       "    </tr>\n",
       "    <tr>\n",
       "      <td>2754</td>\n",
       "      <td>6</td>\n",
       "      <td>Fry Am the Egg Man</td>\n",
       "      <td>Man #1</td>\n",
       "      <td></td>\n",
       "    </tr>\n",
       "    <tr>\n",
       "      <td>2755</td>\n",
       "      <td>6</td>\n",
       "      <td>Fry Am the Egg Man</td>\n",
       "      <td>Hermes</td>\n",
       "      <td>Excuse me, but we're guests on your planet. S...</td>\n",
       "    </tr>\n",
       "    <tr>\n",
       "      <td>2756</td>\n",
       "      <td>6</td>\n",
       "      <td>Fry Am the Egg Man</td>\n",
       "      <td>Man #2</td>\n",
       "      <td>Behave yourselves, gents. Off-worlders best b...</td>\n",
       "    </tr>\n",
       "  </tbody>\n",
       "</table>\n",
       "</div>"
      ],
      "text/plain": [
       "      Season             Episode Character  \\\n",
       "2747       6  Fry Am the Egg Man       Fry   \n",
       "2748       6  Fry Am the Egg Man       Fry   \n",
       "2749       6  Fry Am the Egg Man    Hermes   \n",
       "2750       6  Fry Am the Egg Man       Fry   \n",
       "2751       6  Fry Am the Egg Man     Leela   \n",
       "2752       6  Fry Am the Egg Man    Bender   \n",
       "2753       6  Fry Am the Egg Man  Zoidberg   \n",
       "2754       6  Fry Am the Egg Man    Man #1   \n",
       "2755       6  Fry Am the Egg Man    Hermes   \n",
       "2756       6  Fry Am the Egg Man    Man #2   \n",
       "\n",
       "                                                   Line  \n",
       "2747                 Yeah! Let's do those Leela things.  \n",
       "2748   Well, buddy, how d'ya like your new home? See...  \n",
       "2749   That thing doesn't have emotions, Fry. Its br...  \n",
       "2750   So are walnuts and they're delicious. I'll mi...  \n",
       "2751                   Come on, Fry. Let's go home an'—  \n",
       "2752   Hold up! There's alcohol around here somewher...  \n",
       "2753                 We're not from around here. Hello!  \n",
       "2754                                                     \n",
       "2755   Excuse me, but we're guests on your planet. S...  \n",
       "2756   Behave yourselves, gents. Off-worlders best b...  "
      ]
     },
     "execution_count": 169,
     "metadata": {},
     "output_type": "execute_result"
    }
   ],
   "source": [
    "all_lines_df[all_lines_df['Episode']==\"Fry Am the Egg Man\"][100:110]"
   ]
  },
  {
   "cell_type": "code",
   "execution_count": 166,
   "metadata": {},
   "outputs": [
    {
     "data": {
      "text/html": [
       "<div>\n",
       "<style scoped>\n",
       "    .dataframe tbody tr th:only-of-type {\n",
       "        vertical-align: middle;\n",
       "    }\n",
       "\n",
       "    .dataframe tbody tr th {\n",
       "        vertical-align: top;\n",
       "    }\n",
       "\n",
       "    .dataframe thead th {\n",
       "        text-align: right;\n",
       "    }\n",
       "</style>\n",
       "<table border=\"1\" class=\"dataframe\">\n",
       "  <thead>\n",
       "    <tr style=\"text-align: right;\">\n",
       "      <th></th>\n",
       "      <th>Episode</th>\n",
       "      <th>Character</th>\n",
       "      <th>Line</th>\n",
       "      <th>Season</th>\n",
       "    </tr>\n",
       "  </thead>\n",
       "  <tbody>\n",
       "    <tr>\n",
       "      <td>2754</td>\n",
       "      <td>Fry Am the Egg Man</td>\n",
       "      <td>Man #1</td>\n",
       "      <td></td>\n",
       "      <td>6</td>\n",
       "    </tr>\n",
       "    <tr>\n",
       "      <td>19830</td>\n",
       "      <td>Bender's Game Part 1</td>\n",
       "      <td>ALL</td>\n",
       "      <td></td>\n",
       "      <td>5</td>\n",
       "    </tr>\n",
       "    <tr>\n",
       "      <td>20442</td>\n",
       "      <td>Bender's Game Part 4</td>\n",
       "      <td>ALL</td>\n",
       "      <td></td>\n",
       "      <td>5</td>\n",
       "    </tr>\n",
       "    <tr>\n",
       "      <td>22836</td>\n",
       "      <td>Lethal Inspection</td>\n",
       "      <td>Hermes</td>\n",
       "      <td></td>\n",
       "      <td>6</td>\n",
       "    </tr>\n",
       "    <tr>\n",
       "      <td>23485</td>\n",
       "      <td>The Prisoner of Benda</td>\n",
       "      <td>Bender</td>\n",
       "      <td></td>\n",
       "      <td>6</td>\n",
       "    </tr>\n",
       "  </tbody>\n",
       "</table>\n",
       "</div>"
      ],
      "text/plain": [
       "                     Episode Character Line  Season\n",
       "2754      Fry Am the Egg Man    Man #1            6\n",
       "19830   Bender's Game Part 1       ALL            5\n",
       "20442   Bender's Game Part 4       ALL            5\n",
       "22836      Lethal Inspection    Hermes            6\n",
       "23485  The Prisoner of Benda    Bender            6"
      ]
     },
     "execution_count": 166,
     "metadata": {},
     "output_type": "execute_result"
    }
   ],
   "source": [
    "all_lines_df[all_lines_df['Line']==\"\"]\n",
    "# remaining lines were just something in [ ]"
   ]
  },
  {
   "cell_type": "markdown",
   "metadata": {},
   "source": [
    "# Analysis"
   ]
  },
  {
   "cell_type": "code",
   "execution_count": null,
   "metadata": {},
   "outputs": [],
   "source": [
    "all_lines_df = pd.read_csv('only_spoken_text.csv')"
   ]
  },
  {
   "cell_type": "code",
   "execution_count": 3,
   "metadata": {},
   "outputs": [],
   "source": [
    "top7 = all_lines_df['Character'].value_counts()[:7]"
   ]
  },
  {
   "cell_type": "code",
   "execution_count": 4,
   "metadata": {},
   "outputs": [
    {
     "data": {
      "image/png": "[encoded data removed]",
      "text/plain": [
       "<Figure size 432x288 with 1 Axes>"
      ]
     },
     "metadata": {},
     "output_type": "display_data"
    }
   ],
   "source": [
    "plt.suptitle(\"Futurama Seasons 1-6\", fontsize=18, y=1.01)\n",
    "plt.title(\"Percentage of Lines Among Top 7 Characters\")\n",
    "plt.pie(top7, labels=top7.index, autopct='%1.f%%', \n",
    "        colors=['orangered', 'slategrey', 'fuchsia', 'darkcyan', 'r', 'pink', 'g'], \n",
    "        );\n",
    "plt.savefig('graphs/lines_top7.png')"
   ]
  },
  {
   "cell_type": "code",
   "execution_count": null,
   "metadata": {},
   "outputs": [],
   "source": []
  }
 ],
 "metadata": {
  "kernelspec": {
   "display_name": "Python 3",
   "language": "python",
   "name": "python3"
  },
  "language_info": {
   "codemirror_mode": {
    "name": "ipython",
    "version": 3
   },
   "file_extension": ".py",
   "mimetype": "text/x-python",
   "name": "python",
   "nbconvert_exporter": "python",
   "pygments_lexer": "ipython3",
   "version": "3.6.9"
  }
 },
 "nbformat": 4,
 "nbformat_minor": 4
}
