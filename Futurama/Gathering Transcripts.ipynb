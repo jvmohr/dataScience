{
 "cells": [
  {
   "cell_type": "markdown",
   "metadata": {},
   "source": [
    "- Gathers transcripts and saves them in .txt files\n",
    "- Also saves opening line data in opening_lines.csv\n",
    "- Gathers episode data and saves it in episode_list.csv\n",
    "- Performs some cleaning \n",
    "- Merges episode_list.csv and opening_lines.csv\n",
    "\n",
    "Notes\n",
    "- Some manual editing of data was done (some titles were slightly mismatched between the .txts and episode_list.csv\n",
    "- Saving of files has been commented out or changed to save to a different file name to avoid getting rid of the original files"
   ]
  },
  {
   "cell_type": "markdown",
   "metadata": {},
   "source": [
    "Transcripts from: https://theinfosphere.org/Episode_Transcript_Listing\n",
    "Episode Data from: https://en.wikipedia.org/wiki/List_of_Futurama_episodes"
   ]
  },
  {
   "cell_type": "code",
   "execution_count": 1,
   "metadata": {},
   "outputs": [],
   "source": [
    "import requests,  os\n",
    "from bs4 import BeautifulSoup\n",
    "import pandas as pd"
   ]
  },
  {
   "cell_type": "markdown",
   "metadata": {},
   "source": [
    "# Example/Test"
   ]
  },
  {
   "cell_type": "code",
   "execution_count": 3,
   "metadata": {},
   "outputs": [],
   "source": [
    "url = \"https://theinfosphere.org/Transcript:Lrrreconcilable_Ndndifferences\"\n",
    "r = requests.get(url)\n",
    "r.raise_for_status()"
   ]
  },
  {
   "cell_type": "code",
   "execution_count": 4,
   "metadata": {},
   "outputs": [],
   "source": [
    "soup = BeautifulSoup(r.text, \"html.parser\")\n",
    "p1 = soup.find_all('th')\n",
    "next_ep = p1[2].findNext()['href']\n",
    "title = soup.find_all('table')[1].contents[0].find_all('a')[1]['title']"
   ]
  },
  {
   "cell_type": "code",
   "execution_count": 6,
   "metadata": {},
   "outputs": [],
   "source": [
    "def convert_to_text(data):\n",
    "    text = data.text.strip()\n",
    "    if \"⨂\" in text:\n",
    "        return text[9:]\n",
    "    else:\n",
    "        return text"
   ]
  },
  {
   "cell_type": "code",
   "execution_count": 9,
   "metadata": {},
   "outputs": [
    {
     "data": {
      "text/plain": [
       "\"The Scary Announcer: You're taking a vacation from normalcy, the setting: a weird motel where the bed is stained with mystery, and there's also some mystery floating in the pool. Your key card may not open the exercise room because someone smeared mystery on the lock. But it will open the Scary Door.\""
      ]
     },
     "execution_count": 9,
     "metadata": {},
     "output_type": "execute_result"
    }
   ],
   "source": [
    "# soup.find_all('body')[0].find_all(['dl', 'p']) # to grab scenes as well\n",
    "transcript_html = soup.find_all('body')[0].find_all(['p'])\n",
    "transcript = [convert_to_text(text) for text in transcript_html]\n",
    "transcript[1]"
   ]
  },
  {
   "cell_type": "code",
   "execution_count": null,
   "metadata": {},
   "outputs": [],
   "source": [
    "next_url = \"https://theinfosphere.org\" + next_ep"
   ]
  },
  {
   "cell_type": "code",
   "execution_count": 97,
   "metadata": {},
   "outputs": [
    {
     "data": {
      "text/plain": [
       "'/Episode_Transcript_Listing'"
      ]
     },
     "execution_count": 97,
     "metadata": {},
     "output_type": "execute_result"
    }
   ],
   "source": [
    "# for testing\n",
    "url2 = \"https://theinfosphere.org/Transcript:Meanwhile\"\n",
    "r2 = requests.get(url2)\n",
    "r2.raise_for_status()\n",
    "soup2 = BeautifulSoup(r2.text, \"html.parser\")\n",
    "p11 = soup2.find_all('th')\n",
    "next_ep2 = p11[2].findNext()['href']\n",
    "next_ep2"
   ]
  },
  {
   "cell_type": "markdown",
   "metadata": {},
   "source": [
    "# Get the Transcript Data"
   ]
  },
  {
   "cell_type": "code",
   "execution_count": 34,
   "metadata": {},
   "outputs": [
    {
     "name": "stdout",
     "output_type": "stream",
     "text": [
      "15 Brannigan, Begin Again didn't find\n",
      "81 Bender's Game Part 1 didn't find\n",
      "82 Bender's Game Part 2 didn't find\n",
      "83 Bender's Game Part 3 didn't find\n",
      "84 Bender's Game Part 4 didn't find\n",
      "85 Into the Wild Green Yonder Part 1 didn't find\n",
      "86 Into the Wild Green Yonder Part 2 didn't find\n",
      "87 Into the Wild Green Yonder Part 3 didn't find\n",
      "88 Into the Wild Green Yonder Part 4 didn't find\n",
      "89 Rebirth didn't find\n",
      "90 In-A-Gadda-Da-Leela didn't find\n",
      "91 Attack of the Killer App didn't find\n",
      "101 The Futurama Holiday Spectacular didn't find\n",
      "115 The Bots and the Bees didn't find\n",
      "116 A Farewell to Arms didn't find\n",
      "117 Decision 3012 didn't find\n"
     ]
    }
   ],
   "source": [
    "next_url = \"https://theinfosphere.org/Transcript:Space_Pilot_3000\"\n",
    "i = 1\n",
    "opening_lines = []\n",
    "\n",
    "while True:\n",
    "    r = requests.get(next_url)\n",
    "    r.raise_for_status()\n",
    "    \n",
    "    soup = BeautifulSoup(r.text, \"html.parser\")\n",
    "    p1 = soup.find_all('th')\n",
    "    try:\n",
    "        next_url = \"https://theinfosphere.org\" + p1[2].findNext()['href']\n",
    "    except:\n",
    "        break\n",
    "    \n",
    "    title = soup.find_all('table')[1].contents[0].find_all('a')[1]['title']\n",
    "    #print(title)\n",
    "    transcript_html = soup.find_all('body')[0].find_all(['p'])\n",
    "    transcript = [convert_to_text(text) for text in transcript_html]\n",
    "    \n",
    "    # file names have been edited to not write over current files\n",
    "    with open(os.path.join('transcripts', \"newepisode{}.txt\".format(i)), \"w\", encoding=\"utf-8\") as f:\n",
    "        f.write(title+\"\\n\")\n",
    "        [f.write(line+\"\\n\") for line in transcript]\n",
    "    \n",
    "    # get opening line from title screen\n",
    "    scenes = soup.find_all('dd')\n",
    "    found = False\n",
    "    for line in scenes:\n",
    "        try:\n",
    "            if 'Opening Credits' in line.text:\n",
    "                opening_lines.append([i, title, line.text.split(':')[1][:-1]])\n",
    "                found = True\n",
    "                continue\n",
    "        except:\n",
    "            continue\n",
    "        \n",
    "    if not found:\n",
    "        print(i, title, \"didn't find\")\n",
    "    \n",
    "    i += 1\n",
    "    if title == \"Meanwhile\":\n",
    "        break\n",
    "\n",
    "pd.DataFrame(opening_lines, columns=['Episode Number', 'Episode', 'Opening Line']).to_csv('newopening_lines.csv', index=False)\n",
    "        \n",
    "# Error is in regards to the \"Next\" link being absent on that episode.\n",
    "# Rest of S7 isn't complete/linked together.\n",
    "\n",
    "# opening_lines.csv\n",
    "# note to self: get 81, 85, 89, 91, 101, 115, rest of s7\n",
    "# check 82-84, 86-88, 90"
   ]
  },
  {
   "cell_type": "code",
   "execution_count": 75,
   "metadata": {},
   "outputs": [
    {
     "name": "stdout",
     "output_type": "stream",
     "text": [
      "A Flight to Remember\n",
      "Leela: That was the worst delivery ever.\n",
      "Fry: Yeah. I'm never going to another planet called \"Cannibalon\"!\n",
      "Bender: Me neither. [upbeat] Food was good, though.\n",
      "Farnsworth: Oh, great news, everyone.\n",
      "Bender: Shove it! We quit!\n",
      "Farnsworth: In that case I'll have to hire a new crew to go on our company vacation.\n",
      "Leela: Vacation?\n",
      "Bender: Alright!\n",
      "Fry: This is great! I haven't had time off since I was 21 through 24.\n",
      "Farnsworth: It's just my way of thanking you for not reporting my countless violations of safety and minimum wage laws.\n",
      "Bender: Aww, you!\n",
      "Farnsworth: I've booked us all on the maiden voyage of the largest, most luxurious space cruise ship ever built. [He pulls out a brochure.] The Titanic!\n",
      "Leela: Looks nice.\n",
      "Fry: Hey, uh, where's my suitcase? [His suitcase flies out from the tube and knocks him over.] Ow!\n",
      "Poopenmeyer: As Mayor of New New York, it's my pleasure to introduce the honorary captain for the Titanic's maiden voyage. A man who single-handedly defeated the Retiree People of the Assisted Living Nebula: Zapp Brannigan!\n",
      "Leela: Oh, God! Not Zapp Brannigan!\n",
      "Zoidberg: You know Zapp Brannigan?\n",
      "Leela: Let's just say we've \"crossed paths\".\n",
      "Bender: Was that before or after you slept with him?\n",
      "Zapp: She's a beautiful ship, alright. Shapely ... seductive. I'm gonna fly her brains out. [The crowd applauds. Zapp holds up his hand and they stop.] And now, without further adieu, I christen this ship, Titanic.\n",
      "Zapp: Well, well, well! The Lady Leela. Take notes, Kif. You're about to witness the subtle waltz known as seduction. [Kif sighs. Leela stops as Zapp blocks her way.] So, trapped on a ship with me. What say you and I knock some very sensual boots?\n",
      "Leela: It's tempting, but, uh, I have a fiancÃ© now. Uh, hmm, uh, hmm, uh, we--, uh ... [She repeatedly looks at Farnsworth, Zoidberg and Fry, makes a quick decision, then pulls Fry forward.] Him! Fry, darling, meet Zapp Brannigan.\n",
      "Fry: Huh? [Leela eblows him.] Ooh! How do you do?\n",
      "Farnsworth: Ah, here's my stateroom.\n",
      "Bender: Come on, where is it?\n",
      "Farnsworth: Now, Hermes, you and your lovely wife, LaBarbara, have the suite through there. And Dr. Zoidberg, your marble tank is on the other side.\n",
      "Fry: Man, first class seems nice!\n",
      "Farnsworth: It'll seem even nicer once you've seen your room.\n",
      "Amy: Looks like we're on the Fiesta Deck.\n",
      "Leela: This is it.\n",
      "Fry: Well at least we get a window!\n",
      "Bender: Well, I'm tired of this room and everyone in it. If you'll excuse me, I'm gonna pop over to the casino for the next 135 hours!\n",
      "Amy: I think I'll go and fill up on bisque at the buffet.\n",
      "Fry: I guess that just leaves you and your fake fiancÂ´ ... all alone ... on a romantic cruise.\n",
      "Leela: Take it off or I'll break it off.\n",
      "Fry: OK!\n",
      "Zapp: Captain's inspection!\n",
      "Bender: Hmm. [Through his eyes we see his cheat unit predicting the dice. He chuckles.] I'm bettin' it all! [He empties the chips from his chest cabinet.] Come on, baby needs a new pair of feet!\n",
      "Croupier: Snake eyes.\n",
      "Bender: No! My cheating unit malfunctioned! You gotta give me a do-over!\n",
      "Croupier: Sorry, the house limit is three do-overs. Next shooter.\n",
      "Bender: Gimmie you're biggest, strongest, cheapest drink.\n",
      "iZac: You got it!\n",
      "Bender: Allow me to introduce myself. I'm Bender.\n",
      "Countess: Charmed. I'm the Countess de la Roca. I was surprised to see another robot staying in first class. Most of the robots I meet are labourers.\n",
      "Bender: I assure you, I barely know the meaning of the word \"labour\".\n",
      "Countess: Oh, Mr. Bender!\n",
      "Bender: Please, call me Bender.\n",
      "Countess: [embarrassed] Oh, goodness. I don't--\n",
      "Zapp: Kif, I'm feeling the captain's itch.\n",
      "Kif: I'll get the powder, sir.\n",
      "Zapp: No, the itch for adventure! Prepare to change course.\n",
      "Kif: Sir, this is a leisure cruise. Our path was set by the travel agency.\n",
      "Zapp: That's for schoolgirls! Now here's a route with some chest hair.\n",
      "Kif: But that course leads directly through a swarm of comets.\n",
      "Zapp: Yes, comets! The icebergs of the sky. By jack-knifing from one to the next at breakneck speed we might just get some kind of gravity boost ... or something. [Kif sighs.] It's time to shove a jalapeÃ±o up this ships tailpipe. [He grabs the wheel.] Divert power from the shields, full speed ahead!\n",
      "Amy: Oh, yeah!\n",
      "Mrs. Wong: Amy! Hello!\n",
      "Amy: Mom? Dad? What are you doing here?\n",
      "Mr. Wong: We were planning on enjoying a relaxing vacation. But since you're here, we'll have to do some meddling.\n",
      "Mrs. Wong: We met the nicest boy in the cabin next to ours.\n",
      "Mr. Wong: He's not very ugly.\n",
      "Mrs. Wong: You should marry him! Or at least use him to conceive a grandchild for us.\n",
      "Mr. Wong: There he is at the buffet!\n",
      "Amy: Uh, he seems really nice but, well, I already have a boyfriend.\n",
      "Mrs. Wong: Really? Where is he?\n",
      "Mr. Wong: And why isn't he here right now fathering our grandchild?\n",
      "Amy: Uh...\n",
      "Leela: Well, our accommodations aren't great, but it sure is beautiful out here.\n",
      "Fry: Yeah, it's pretty romantic-- Uh, I mean platonic. Th-That sure is one platonic view!\n",
      "Leela: Fry, just be quiet. I'm beginning to think this whole fake fiancÃ© thing was a terrible, terrible--\n",
      "Fry: Hmm? Mmm!\n",
      "Zapp: Leela, perhaps this is an awkward time but if things don't work out with this pipsqueak here ... [He puts his hand on her shoulder.] ... I just want you to know I'll be there to score you on the rebound.\n",
      "Leela: Uh, look, before you get any crazy ideas, that was for Zapp.\n",
      "Fry: Well, you got anything else for him?\n",
      "Leela: Alright, can we try not to complicate this?\n",
      "Amy: Mom, Dad, I'd like you to meet Fry, my boyfriend.\n",
      "Fry: Hmm? Mmm!\n",
      "Fry: See you later, wuvvums!\n",
      "Leela: It would have been nice if you'd told me you were going out with Amy.\n",
      "Fry: I'm not going out with Amy. It's just to fool her parents. Hey, you're not jealous, are you?\n",
      "Leela: What? No. No! Of course not!\n",
      "Fry: Good, 'cause I consider my fake relationship with you a lot more meaningful.\n",
      "Countess: Mind if I freshen up a bit before we go out?\n",
      "Bender: I was just about to suggest the same thing. [The Countess giggles then disappears into the bathroom. The sound of a power tool comes from the room. Bender rubs his hands with glee. He rummages through her drawers and sees a bracelet on the table. He picks it up and chuckles.] Pay dirt!\n",
      "Countess: Lovely, isn't it?\n",
      "Bender: Yeah. But only 93% as lovely as you.\n",
      "Countess: Oh, Bender! Either that was a computing error or you're the most romantic robot I've ever met!\n",
      "Bender: I don't get it, iZac; that bracelet had a diamond the size of a racoon's brain. Why couldn't I steal it?\n",
      "iZac: It's obvious, Mr. B. You're in love.\n",
      "Bender: Oh, it's true. But we're star-crossed robots. She, a countess, built with a silver spoon in her mouth. And me, just a regular honest Joe.\n",
      "iZac: Hey, you gonna pay for those?\n",
      "Bender: Hell, no!\n",
      "iZac: Security to bar area. Security to bar area.\n",
      "Bender: Fellas, please. I'm in love!\n",
      "iZac: Rough him up!\n",
      "Countess: What are you doing?\n",
      "iZac: This penniless chump was stealing drinks, ma'am.\n",
      "Countess: I see. Here you are, sir. [She hands iZac some money.] Keep the change.\n",
      "iZac: You got it!\n",
      "Zoidberg: Aha!\n",
      "Fry: Go, Professor!\n",
      "Amy: Lean back more!\n",
      "Farnsworth: Ow!\n",
      "LaBarbara: Come on, Hermes, you could out-limbo all of these people!\n",
      "Hermes: Don't be a dog heart, woman. You know I can't. Not after what happened.\n",
      "Announcer: [on loudspeaker] Now limbo-ing for the Earth team, Hermes Conrad.\n",
      "Boy: [shouting] You're my hero, Hermes! I'm gonna be just like you!\n",
      "Hermes: No, boy, stop! It's too low! Your backbone can't take it!\n",
      "Boy: I'm just like Hermes! I'm just like--\n",
      "Hermes: [screaming] Nooo!\n",
      "LaBarbara: There, there. Now you don't have to limbo if you don't want. It doesn't make you any less of a man.\n",
      "Farnsworth: Though it did get me some action!\n",
      "Hattie: I like a man who's flexible!\n",
      "Zapp: Your attention, please. As captain of this vessel, the terrible burden of naming a limbo contest winner is mine and mine alone.\n",
      "Kif: Shouldn't you be steering between the comets?\n",
      "Zapp: And the winner is, Leela!\n",
      "Leela: But I didn't even limbo.\n",
      "Zapp: No matter. I know from personal experience how horizontal you can get. As your reward, you and that hairpile are invited to dine at the captain's table this evening.\n",
      "Bender: Well, now you know. I'm not actually rich. I'm a fraud. A poor, lazy, sexy fraud. This isn't even a real bow-tie, it's magnetic.\n",
      "Countess: Bender, I don't care whether you have money. I love you for your artificial intelligence and your sincerity simulator.\n",
      "Bender: You do? Really?\n",
      "Zapp: I like your style, Fry. You remind me of a young me. Not much younger, mind you. Perhaps even a couple of years older.\n",
      "Fry: Thank you, sir.\n",
      "Zapp: As a gentleman, I must warn you. If you so much as glance at another woman, I'll be all over Leela like a fly on a pile of very seductive manure.\n",
      "Fry: Well, rest assured, Leela's the only girl for me.\n",
      "Amy: Hey, Fry.\n",
      "Leela: Amy!\n",
      "Amy: Leela!\n",
      "Zapp: Ah, the family Wong. Our party is complete.\n",
      "Leela: [whispering] What are we gonna do? Fry can't pretend to be both our boyfriends.\n",
      "Fry: [whispering] Sure I can. I learned how to handle delicate social situations from a little show called Three's Company.\n",
      "Zapp: I'd like to impose a toast on the happy couple. Down the hatch!\n",
      "Mrs. Wong: Hear, hear! Now let's have a kiss!\n",
      "Zapp: Yes, Fry. Plant one on your woman.\n",
      "Fry: Um, let me think. Come and knock on our door, nuh, nuh, nuh, nuh, nuh, nuh. Uh, Mr. Roper--\n",
      "Mr. Wong: What's the hold up? Kiss my daughter already!\n",
      "Farnsworth: Wait, I'm confused. Now tell me, Fry, which one of these ladies are you involved with?\n",
      "Fry: Uh...\n",
      "Kif: Captain, may I have a word with you?\n",
      "Zapp: No.\n",
      "Kif: It's an emergency, sir.\n",
      "Zapp: Come back when it's a catastrophe. [There is a crash and the ship shakes. Zapp reluctantly stands up.] Oh, very well.\n",
      "Amy: Well, with Zapp gone and my parents still here, I suggest Fry give me a nice, convincing kiss.\n",
      "Fry: Ah, now there's something we can all enjoy.\n",
      "Kif: Sir, remember your course correction?\n",
      "Zapp: No.\n",
      "Kif: Well it's proving somewhat more suicidal than we'd initially hoped.\n",
      "Zapp: Kif, old friend, I don't know which disgusts me more: Your cowardice or your stupidity! We'll simply set a new course for that empty region over there. Near that black-ish hole-ish thing.\n",
      "Fry: Hey, Leela, why'd you run off from dinner?\n",
      "Leela: I didn't run off. I had plenty of time to finish eating and stroll away while you were kissing Amy.\n",
      "Fry: Oh, look, I'm not actually interested in her if that's what's bothering you.\n",
      "Leela: Oh, are you sure? I mean, she has two eyes, you have two eyes.\n",
      "Fry: I know, we seem like a perfect match, but I just don't feel that way about her.\n",
      "Leela: Nice nebula.\n",
      "Fry: Yeah.\n",
      "Leela: Look's like everybody's got somebody. Except me.\n",
      "Fry: And me.\n",
      "Leela: What was that? [She looks over the railings and sees.] Oh, my God! We're heading straight into a black hole.\n",
      "Fry: Talk about a mood killer!\n",
      "Zapp: Don't blame yourself, Kif. We were doomed from the start. Nothing remains now but for the captain to go down with his ship.\n",
      "Kif: Why, that's surprisingly noble of you, sir.\n",
      "Zapp: No, it's noble of you, Kif! [He tears his captain's patch off.] As of now ... [He puts the patch on Kif.] ... you're in command. Congratulations, captain!\n",
      "Leela: OK. We just have to get from here to the escape pods.\n",
      "Farnsworth: [shouting] I'm too young to die!\n",
      "Leela: Come on, before it's too late!\n",
      "Bender: You all go without me. I'm gonna take one last look around. You know, for, uh, stuff to steal.\n",
      "Fry: You're going back or the Countess, aren't you?\n",
      "Bender: [whispering] Alright, I am. But I don't want the others to know. If I don't come back, just say I died robbing some old man.\n",
      "Fry: I'll tell them you went out prying the wedding ring off his cold, dead finger.\n",
      "Bender: I love you, buddy!\n",
      "Bender: [shouting] Countess? Countess?\n",
      "Countess: [shouting] Bender!\n",
      "Countess: [shouting] I fell through the deck.\n",
      "Bender: [shouting] Are you hurt, my sweet?\n",
      "Countess: [shouting] No. Luckily a family broke my fall.\n",
      "Bender: Just hang on! I'll take care of that fire!\n",
      "Countess: Bender, you risked your life to save me.\n",
      "Bender: And I'd do it again. And perhaps a third time. But that would be it. [They kiss.] When we kiss, I feel like I'm standing waist-deep in a pool of cold, rising water.\n",
      "Leela: Hurry! The escape pods should be just ahead!\n",
      "Hermes: [gasping] Faster!\n",
      "Leela: It won't move. And the door release is on the other side.\n",
      "Fry: Then we're dead meat. No one could squeeze under there!\n",
      "Hermes: No one, except a legendary limbo champion.\n",
      "LaBarbara: Oh, Hermes!\n",
      "Hermes: Ooh! It's been a while. [He leans back and tries to go under the door. His knees hit it.] This one is for that little kid who's limbo-ing up in heaven right now.\n",
      "LaBarbara: That's my man, alright, baby, limbo!\n",
      "Hermes: I still got the moves! Zoidberg, lower the door another inch.\n",
      "LaBarbara: Just go on through and hit the release, you hot dog!\n",
      "Hermes: Yes, dear.\n",
      "LaBarbara: That's my man!\n",
      "Amy: Yay, Hermes!\n",
      "Hermes: Uh, can somebody help me up?\n",
      "Countess: Well, now what are we going to do?\n",
      "Bender: Wait a second. Aren't you a member of the yacht club?\n",
      "Countess: By God, you're right! I'm a class-3 yacht.\n",
      "Farnsworth: Thank God there are plenty of escape pods. We won't have to dress up like women and children.\n",
      "Leela: We can't leave yet. We've got to wait for Bender. The high gravity must be slowing down his looting.\n",
      "Mrs. Wong: Amy!\n",
      "Amy: Mom? Dad? You're alive!\n",
      "Mr. Wong: Yeah, but so what? The important thing is we found you a new man.\n",
      "Mrs. Wong: A captain.\n",
      "Amy: Uh, Mom, I don't-- [Enter Kif.] Hi!\n",
      "Kif: [sexfully] Hello!\n",
      "Farnsworth: I don't feel well!\n",
      "Fry: Look! It's our nebula. Whenever I see it I'll think back to that moment when we almost-- [The nebula is sucked into the black hole.] Never mind!\n",
      "Hermes: Everyone else is off the ship. Where in Babylon is Bender?\n",
      "Leela: I don't know. But we can't wait any longer.\n",
      "Fry: Goodbye, Bender.\n",
      "Bender: [shouting] Wait for us!\n",
      "Leela: Something's wrong. We're two metric tons overweight.\n",
      "Amy: Well, it's not me!\n",
      "Fry: Look!\n",
      "Countess: I'm slipping, Bender. The pull is too strong!\n",
      "Bender: I can't live without you. If you let go, I let go!\n",
      "Countess: No! You have too much to live for. It may hurt for a while but one day you'll share your love again. After all, it's shareware.\n",
      "Bender: Don't talk like that. Tragic romances always have a happy ending.\n",
      "Countess: [shouting] Farewell!\n",
      "Bender: [shouting] No!\n",
      "Bender: She's gone.\n",
      "Leela: But she saved all our lives. Without her, we're light enough to get away.\n",
      "Fry: Don't cry, Bender. Nobody really knows what happens in a black hole. It's possible she's still alive in another dimension somewhere. Right, Professor?\n",
      "Farnsworth: Oh, yes, absolutely! [He turns to Zoidberg.] Not a chance!\n",
      "Bender: At least I'll always have her bracelet! [He hands it to Hermes.] What do you think it's worth?\n",
      "Hermes: It's fake, mon!\n",
      "\n"
     ]
    }
   ],
   "source": [
    "# Example\n",
    "f = open('transcripts/episode10.txt')\n",
    "print(f.read())\n",
    "f.close()"
   ]
  },
  {
   "cell_type": "markdown",
   "metadata": {},
   "source": [
    "# Get the Episode List Data"
   ]
  },
  {
   "cell_type": "code",
   "execution_count": 66,
   "metadata": {
    "scrolled": false
   },
   "outputs": [],
   "source": [
    "url = \"https://en.wikipedia.org/wiki/List_of_Futurama_episodes\"\n",
    "r = requests.get(url)\n",
    "r.raise_for_status()\n",
    "soup = BeautifulSoup(r.text, \"html.parser\")"
   ]
  },
  {
   "cell_type": "code",
   "execution_count": 62,
   "metadata": {},
   "outputs": [],
   "source": [
    "episodes = soup.find_all('tr', 'vevent')\n",
    "season = 0\n",
    "episode_data = []\n",
    "\n",
    "for episode in episodes:\n",
    "    d1 = episode.contents[0].text # episode number\n",
    "    d2 = episode.contents[1].text # episode in season\n",
    "    d3 = episode.contents[2].text # title\n",
    "    d4 = episode.contents[3].text # director\n",
    "    d5 = episode.contents[4].text # writer\n",
    "    d6 = episode.contents[5].text.split('\\xa0')[-1] # air date\n",
    "\n",
    "    if d2 == '1':\n",
    "        season += 1\n",
    "    d0 = season\n",
    "    episode_data.append([d0, d1, d2, d3, d4, d5, d6])"
   ]
  },
  {
   "cell_type": "code",
   "execution_count": 65,
   "metadata": {},
   "outputs": [],
   "source": [
    "df = pd.DataFrame(episode_data, columns=['Season', 'Episode', 'Episode in Season', \n",
    "                                    'Title', 'Director(s)', 'Writer(s)', 'Air Date'])\n",
    "#df.to_csv('episode_list.csv', index=False)\n",
    "# Edited in csv for season 5 and to update remaining season #s"
   ]
  },
  {
   "cell_type": "code",
   "execution_count": 58,
   "metadata": {},
   "outputs": [],
   "source": [
    "# To get rid of \" \" around titles\n",
    "df = pd.read_csv('episode_list.csv', encoding=\"ISO-8859-1\")\n",
    "#df['Title'] = df['Title'].apply(lambda x: x[1:-1]) # doesn't need to happen again\n",
    "#df.to_csv('episode_list.csv', index=False)"
   ]
  },
  {
   "cell_type": "code",
   "execution_count": 72,
   "metadata": {
    "scrolled": true
   },
   "outputs": [],
   "source": [
    "# Merge opening_lines.csv to episode_list.csv\n",
    "new_df = pd.merge(df, pd.read_csv('opening_lines.csv', encoding=\"ISO-8859-1\"), \n",
    "         how='left', left_on='Title', right_on='Episode', copy=True)\n",
    "new_df = new_df.drop(['Episode Number', 'Episode_y'], axis=1).rename(columns={\"Episode_x\": \"Episode\"}) \n",
    "#new_df.to_csv('episode_list.csv', index=False)"
   ]
  },
  {
   "cell_type": "markdown",
   "metadata": {},
   "source": [
    "# Season 7"
   ]
  },
  {
   "cell_type": "markdown",
   "metadata": {},
   "source": [
    "Season 7 isn't complete on the wiki. Some aren't formatted the same (all the text runs together w/ no indication of who is speaking) and some just don't have the link to the next episode.\n",
    "\n",
    "Episodes with a number to their right are done (in folder Season 7 for now).\n",
    "\n",
    "Season 7\n",
    "- \"The Bots and the Bees\" - 115\n",
    "- \"A Farewell to Arms\" - 116\n",
    "- \"Decision 3012\" - 117\n",
    "- \"The Thief of Baghead\" https://theinfosphere.org/Transcript:The_Thief_of_Baghead\n",
    "- \"Zapp Dingbat\" https://theinfosphere.org/Transcript:Zapp_Dingbat\n",
    "- \"The Butterjunk Effect\" https://theinfosphere.org/Transcript:The_Butterjunk_Effect\n",
    "- \"The Six Million Dollar Mon\" https://theinfosphere.org/Transcript:The_Six_Million_Dollar_Mon\n",
    "- \"Fun on a Bun\" https://theinfosphere.org/Transcript:Fun_on_a_Bun\n",
    "- \"Free Will Hunting\" https://theinfosphere.org/Transcript:Free_Will_Hunting\n",
    "- \"Near-Death Wish\" https://theinfosphere.org/Transcript:Near-Death_Wish\n",
    "- \"31st Century Fox\" https://theinfosphere.org/Transcript:31st_Century_Fox\n",
    "- \"Viva Mars Vegas\" https://theinfosphere.org/Transcript:Viva_Mars_Vegas\n",
    "- \"Naturama\" https://theinfosphere.org/Transcript:Naturama\n",
    "- \"Forty Percent Leadbelly\" https://theinfosphere.org/Transcript:Forty_Percent_Leadbelly\n",
    "- \"2-D Blacktop\" https://theinfosphere.org/Transcript:2-D_Blacktop\n",
    "- \"T.: The Terrestrial\" https://theinfosphere.org/Transcript:T.:_The_Terrestrial\n",
    "- \"Fry and Leela's Big Fling\" https://theinfosphere.org/Transcript:Fry_and_Leela%27s_Big_Fling \n",
    "- \"The Inhuman Torch\" https://theinfosphere.org/Transcript:The_Inhuman_Torch\n",
    "- \"Saturday Morning Fun Pit\" https://theinfosphere.org/Transcript:Saturday_Morning_Fun_Pit\n",
    "- \"Calculon 2.0\" https://theinfosphere.org/Transcript:Calculon_2.0\n",
    "- \"Assie Come Home\" https://theinfosphere.org/Transcript:Assie_Come_Home\n",
    "- \"Leela and the Genestalk\" https://theinfosphere.org/Transcript:Leela_and_the_Genestalk\n",
    "- \"Game of Tones\" https://theinfosphere.org/Transcript:Game_of_Tones\n",
    "- \"Murder on the Planet Express\" https://theinfosphere.org/Transcript:Murder_on_the_Planet_Express\n",
    "- \"Stench and Stenchibility\" https://theinfosphere.org/Transcript:Stench_and_Stenchibility\n",
    "- \"Meanwhile\" https://theinfosphere.org/Transcript:Meanwhile"
   ]
  },
  {
   "cell_type": "code",
   "execution_count": null,
   "metadata": {},
   "outputs": [],
   "source": []
  }
 ],
 "metadata": {
  "kernelspec": {
   "display_name": "Python 3",
   "language": "python",
   "name": "python3"
  },
  "language_info": {
   "codemirror_mode": {
    "name": "ipython",
    "version": 3
   },
   "file_extension": ".py",
   "mimetype": "text/x-python",
   "name": "python",
   "nbconvert_exporter": "python",
   "pygments_lexer": "ipython3",
   "version": "3.7.3"
  }
 },
 "nbformat": 4,
 "nbformat_minor": 4
}
