{
 "cells": [
  {
   "cell_type": "code",
   "execution_count": null,
   "metadata": {},
   "outputs": [],
   "source": [
    "from bs4 import BeautifulSoup\n",
    "import requests, os, time, json\n",
    "import pandas as pd\n",
    "\n",
    "# Scraped from\n",
    "# https://steamcharts.com/top\n",
    "\n",
    "# Create directory if it doesn't exist\n",
    "spath = os.path.join('steam_data')\n",
    "if not os.path.exists(spath):\n",
    "    os.makedirs(spath)\n",
    "\n",
    "# Set up games_dict\n",
    "if os.path.exists(os.path.join(spath, 'games_dict.json')):\n",
    "    f = open(os.path.join(spath, 'games_dict.json'))\n",
    "    games_dict = json.load(f)\n",
    "    f.close()\n",
    "else:\n",
    "    games_dict = {}"
   ]
  },
  {
   "cell_type": "code",
   "execution_count": null,
   "metadata": {},
   "outputs": [],
   "source": [
    "# Gets the dataframe for one game\n",
    "def getGameCounts(appid):\n",
    "    r = requests.get('https://steamcharts.com{}'.format(appid))\n",
    "    r.raise_for_status()\n",
    "    soup = BeautifulSoup(r.text, \"html.parser\")\n",
    "\n",
    "    pc_df = pd.read_html(str(soup))[0]\n",
    "    pc_df['App ID'] = int(appid.split('/')[-1])\n",
    "    return pc_df"
   ]
  },
  {
   "cell_type": "code",
   "execution_count": null,
   "metadata": {},
   "outputs": [],
   "source": [
    "end_num = 40 # 25 games per page\n",
    "all_df = pd.DataFrame()\n",
    "\n",
    "url = 'https://steamcharts.com/top/p.{}'\n",
    "\n",
    "# for each page\n",
    "for i in range(1, end_num+1):\n",
    "    r = requests.get(url.format(i))\n",
    "    r.raise_for_status()\n",
    "    msoup = BeautifulSoup(r.text, \"html.parser\")\n",
    "    \n",
    "    # for each game on the page\n",
    "    for game in msoup.find_all('td', attrs={'class': 'game-name left'}):\n",
    "        appid = game.find('a').get('href')\n",
    "        games_dict[int(appid.split('/')[-1])] = game.text.strip()\n",
    "        try:\n",
    "            df = getGameCounts(appid)\n",
    "            all_df = all_df.append(df, ignore_index=True)\n",
    "        except:\n",
    "            print('url not found', appid)\n",
    "    \n",
    "    # to slow it down a bit\n",
    "    if i != end_num:\n",
    "        time.sleep(60)"
   ]
  },
  {
   "cell_type": "code",
   "execution_count": null,
   "metadata": {},
   "outputs": [],
   "source": [
    "# Save the files\n",
    "all_df['Game'] = all_df['App ID'].astype(int).map(games_dict)\n",
    "all_df.to_csv(os.path.join(spath, 'steam_charts.csv'), index=False)\n",
    "\n",
    "f = open(os.path.join(spath, 'games_dict.json'), 'w')\n",
    "json.dump(games_dict, f)\n",
    "f.close()"
   ]
  },
  {
   "cell_type": "code",
   "execution_count": null,
   "metadata": {},
   "outputs": [],
   "source": []
  }
 ],
 "metadata": {
  "kernelspec": {
   "display_name": "Python 3",
   "language": "python",
   "name": "python3"
  },
  "language_info": {
   "codemirror_mode": {
    "name": "ipython",
    "version": 3
   },
   "file_extension": ".py",
   "mimetype": "text/x-python",
   "name": "python",
   "nbconvert_exporter": "python",
   "pygments_lexer": "ipython3",
   "version": "3.7.3"
  }
 },
 "nbformat": 4,
 "nbformat_minor": 4
}
