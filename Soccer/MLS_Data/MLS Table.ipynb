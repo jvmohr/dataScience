{
 "cells": [
  {
   "cell_type": "code",
   "execution_count": 5,
   "metadata": {},
   "outputs": [],
   "source": [
    "import requests, os, datetime, json\n",
    "from bs4 import BeautifulSoup\n",
    "import pandas as pd\n",
    "import numpy as np"
   ]
  },
  {
   "cell_type": "code",
   "execution_count": 6,
   "metadata": {
    "scrolled": true
   },
   "outputs": [],
   "source": [
    "# GP W D L GF GA GD P\n",
    "cols = ['Place', 'Team', 'GP', 'W', 'D', 'L', 'GF', 'GA', 'GD', 'P']\n",
    "table_df = pd.DataFrame([], columns=cols)\n",
    "\n",
    "for year in range(2003, 2020):\n",
    "    url = \"https://www.espn.com/soccer/standings/_/league/USA.1/season/{}\"\n",
    "\n",
    "    r = requests.get(url.format(year))\n",
    "    r.raise_for_status()\n",
    "    soup = BeautifulSoup(r.text, \"html.parser\")\n",
    "\n",
    "    teams_soup = soup.find_all('table')[0].find_all('div', class_='team-link flex items-center clr-gray-03')\n",
    "    teams = []\n",
    "\n",
    "    for team in teams_soup:\n",
    "        teams.append([team.contents[0].text, team.find('img').get('title')])\n",
    "\n",
    "    stats = soup.find_all('span', class_='stat-cell')\n",
    "\n",
    "    # convert to np array and reshape\n",
    "    stats = [item.text for item in stats]\n",
    "    np_stats = np.array(stats).reshape(-1, 8)\n",
    "\n",
    "    final_arr = np.concatenate((np.array(teams).reshape(-1, 2), np_stats), axis=1)\n",
    "    temp_df = pd.DataFrame(final_arr, columns=cols)\n",
    "    temp_df['Year'] = year\n",
    "    table_df = table_df.append(temp_df, ignore_index=True)"
   ]
  },
  {
   "cell_type": "code",
   "execution_count": 7,
   "metadata": {},
   "outputs": [],
   "source": [
    "table_df.to_csv(os.path.join('data', 'tables', '2003_2019_tables.csv'), index=False)"
   ]
  },
  {
   "cell_type": "code",
   "execution_count": null,
   "metadata": {},
   "outputs": [],
   "source": []
  }
 ],
 "metadata": {
  "kernelspec": {
   "display_name": "Python 3",
   "language": "python",
   "name": "python3"
  },
  "language_info": {
   "codemirror_mode": {
    "name": "ipython",
    "version": 3
   },
   "file_extension": ".py",
   "mimetype": "text/x-python",
   "name": "python",
   "nbconvert_exporter": "python",
   "pygments_lexer": "ipython3",
   "version": "3.7.3"
  }
 },
 "nbformat": 4,
 "nbformat_minor": 4
}
