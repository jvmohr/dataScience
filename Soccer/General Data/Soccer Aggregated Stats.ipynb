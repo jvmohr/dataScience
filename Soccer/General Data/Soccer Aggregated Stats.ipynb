{
 "cells": [
  {
   "cell_type": "code",
   "execution_count": 1,
   "metadata": {},
   "outputs": [],
   "source": [
    "from league_data_dict import league_data_dict\n",
    "from bs4 import BeautifulSoup\n",
    "\n",
    "import requests, os, datetime\n",
    "import pandas as pd\n",
    "import numpy as np\n",
    "import time as tm"
   ]
  },
  {
   "cell_type": "code",
   "execution_count": 2,
   "metadata": {},
   "outputs": [],
   "source": [
    "def cleanDF(df):\n",
    "    df[['RK', 'Team']] = df[['RK', 'Team']].fillna(method=\"ffill\")\n",
    "    df['RK'] = df['RK'].astype(int)\n",
    "    return df\n",
    "\n",
    "def updateDF(new_df, file_name, current_year):\n",
    "    temp_df = pd.read_csv(os.path.join('data', folder_name, 'agg_stats', file_name))\n",
    "    temp_df = temp_df.drop(temp_df[temp_df['YEAR'] == current_year].index) # drop current year\n",
    "    return temp_df.append(new_df) # add the updated version\n",
    "\n",
    "def getSoup(url):\n",
    "    while True:\n",
    "        try:\n",
    "            r = requests.get(url)\n",
    "            r.raise_for_status()\n",
    "            break\n",
    "        except:\n",
    "            tm.sleep(2)\n",
    "    return BeautifulSoup(r.text, \"html.parser\")"
   ]
  },
  {
   "cell_type": "code",
   "execution_count": 3,
   "metadata": {},
   "outputs": [],
   "source": [
    "chosen_league = 'English Premier League'\n",
    "update = True\n",
    "end_year = 2022\n",
    "\n",
    "league = league_data_dict[chosen_league]['Code']\n",
    "start_year = league_data_dict[chosen_league]['First Year - Agg Stats']\n",
    "folder_name = league_data_dict[chosen_league]['Folder']\n",
    "\n",
    "# if folder doesn't exist, make it\n",
    "apath = os.path.join('data', folder_name, 'agg_stats')\n",
    "if not os.path.exists(apath):\n",
    "    os.makedirs(apath)"
   ]
  },
  {
   "cell_type": "code",
   "execution_count": 4,
   "metadata": {},
   "outputs": [],
   "source": [
    "# Only want to update current season\n",
    "if update:\n",
    "    start_year = end_year - 1\n",
    "\n",
    "all_goals_df = pd.DataFrame()\n",
    "all_assists_df = pd.DataFrame()\n",
    "all_disc_df = pd.DataFrame()\n",
    "\n",
    "# For each year\n",
    "for year in range(start_year, end_year):\n",
    "    # Scoring\n",
    "    url = 'https://www.espn.com/soccer/stats/_/league/{}/season/{}'\n",
    "    \n",
    "    soup = getSoup(url.format(league, year))\n",
    "    \n",
    "    try:\n",
    "        goals_df, assists_df = pd.read_html(str(soup))\n",
    "    except:\n",
    "        print('found no tables in {}'.format(year))\n",
    "        continue\n",
    "    \n",
    "    goals_df = cleanDF(goals_df)\n",
    "    goals_df['YEAR'] = year\n",
    "    assists_df = cleanDF(assists_df)\n",
    "    assists_df['YEAR'] = year\n",
    "    \n",
    "    # Discipline\n",
    "    url = 'https://www.espn.com/soccer/stats/_/league/{}/season/{}/view/discipline'\n",
    "    r = requests.get(url.format(league, year))\n",
    "    r.raise_for_status()\n",
    "    soup = BeautifulSoup(r.text, \"html.parser\")\n",
    "    \n",
    "    disc_df = pd.read_html(str(soup))[0]\n",
    "    disc_df['RK'] = disc_df['RK'].fillna(method='ffill').astype(int)\n",
    "    disc_df['YEAR'] = year\n",
    "    \n",
    "    # Append\n",
    "    all_goals_df = all_goals_df.append(goals_df)\n",
    "    all_assists_df = all_assists_df.append(assists_df)\n",
    "    all_disc_df = all_disc_df.append(disc_df)\n",
    "    \n",
    "# if just an update is wanted\n",
    "# update the df with the new data\n",
    "if update:\n",
    "    all_goals_df = updateDF(all_goals_df, 'goal_leaders.csv', start_year)\n",
    "    all_assists_df = updateDF(all_assists_df, 'assist_leaders.csv', start_year)\n",
    "    all_disc_df = updateDF(all_disc_df, 'team_discipline.csv', start_year)\n",
    "\n",
    "# Save them\n",
    "all_goals_df.to_csv(os.path.join('data', folder_name, 'agg_stats', 'goal_leaders.csv'), index=False)\n",
    "all_assists_df.to_csv(os.path.join('data', folder_name, 'agg_stats', 'assist_leaders.csv'), index=False)\n",
    "all_disc_df.to_csv(os.path.join('data', folder_name, 'agg_stats', 'team_discipline.csv'), index=False)"
   ]
  },
  {
   "cell_type": "code",
   "execution_count": null,
   "metadata": {},
   "outputs": [],
   "source": []
  }
 ],
 "metadata": {
  "kernelspec": {
   "display_name": "Python 3",
   "language": "python",
   "name": "python3"
  },
  "language_info": {
   "codemirror_mode": {
    "name": "ipython",
    "version": 3
   },
   "file_extension": ".py",
   "mimetype": "text/x-python",
   "name": "python",
   "nbconvert_exporter": "python",
   "pygments_lexer": "ipython3",
   "version": "3.7.3"
  }
 },
 "nbformat": 4,
 "nbformat_minor": 4
}
