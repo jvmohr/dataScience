{
 "cells": [
  {
   "cell_type": "markdown",
   "metadata": {},
   "source": [
    "This notebook is for getting data from a league/multiple leagues in one run."
   ]
  },
  {
   "cell_type": "code",
   "execution_count": null,
   "metadata": {},
   "outputs": [],
   "source": [
    "from soccer_fcns import *"
   ]
  },
  {
   "cell_type": "code",
   "execution_count": null,
   "metadata": {},
   "outputs": [],
   "source": [
    "leagues = ['English Premier League', 'Spanish La Liga', \n",
    "           'German Bundesliga', 'Italian Serie A', \n",
    "           'Dutch Eredivisie', 'French Ligue 1']"
   ]
  },
  {
   "cell_type": "code",
   "execution_count": null,
   "metadata": {},
   "outputs": [],
   "source": [
    "# Grab data for each league\n",
    "for league in leagues:\n",
    "    getAggStats(league, end_season=2022)\n",
    "    getTable(league, end_season=2022)\n",
    "    getGameData(league, \"20211001\", \"20211025\", end_season=2022, verbose=False)\n",
    "    \n",
    "combineData(leagues, 'european_total')"
   ]
  }
 ],
 "metadata": {
  "kernelspec": {
   "display_name": "Python 3",
   "language": "python",
   "name": "python3"
  },
  "language_info": {
   "codemirror_mode": {
    "name": "ipython",
    "version": 3
   },
   "file_extension": ".py",
   "mimetype": "text/x-python",
   "name": "python",
   "nbconvert_exporter": "python",
   "pygments_lexer": "ipython3",
   "version": "3.7.3"
  }
 },
 "nbformat": 4,
 "nbformat_minor": 4
}
