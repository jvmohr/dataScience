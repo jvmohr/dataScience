{
 "cells": [
  {
   "cell_type": "code",
   "execution_count": 1,
   "metadata": {},
   "outputs": [],
   "source": [
    "import pandas as pd\n",
    "import os, json\n",
    "import matplotlib.pyplot as plt\n",
    "\n",
    "%matplotlib inline"
   ]
  },
  {
   "cell_type": "code",
   "execution_count": 2,
   "metadata": {},
   "outputs": [],
   "source": [
    "cards_df = pd.read_csv(os.path.join('data', 'dokkan_cards.csv'))\n",
    "pettan_df = pd.read_csv(os.path.join('data', 'pettan_cards.csv'))"
   ]
  },
  {
   "cell_type": "code",
   "execution_count": 3,
   "metadata": {},
   "outputs": [
    {
     "data": {
      "text/html": [
       "<div>\n",
       "<style scoped>\n",
       "    .dataframe tbody tr th:only-of-type {\n",
       "        vertical-align: middle;\n",
       "    }\n",
       "\n",
       "    .dataframe tbody tr th {\n",
       "        vertical-align: top;\n",
       "    }\n",
       "\n",
       "    .dataframe thead th {\n",
       "        text-align: right;\n",
       "    }\n",
       "</style>\n",
       "<table border=\"1\" class=\"dataframe\">\n",
       "  <thead>\n",
       "    <tr style=\"text-align: right;\">\n",
       "      <th></th>\n",
       "      <th>Title</th>\n",
       "      <th>Character</th>\n",
       "      <th>Max Level</th>\n",
       "      <th>SA Level</th>\n",
       "      <th>Rarity</th>\n",
       "      <th>Type</th>\n",
       "      <th>Cost</th>\n",
       "      <th>ID</th>\n",
       "      <th>JP Release Date</th>\n",
       "      <th>Global Release Date</th>\n",
       "      <th>...</th>\n",
       "      <th>Active Skill Name</th>\n",
       "      <th>Active Skill</th>\n",
       "      <th>Activation Condition</th>\n",
       "      <th>EZA Active Skill Name</th>\n",
       "      <th>EZA Active Skill</th>\n",
       "      <th>EZA Activation Condition</th>\n",
       "      <th>Unit Super Attack Name</th>\n",
       "      <th>Unit Super Attack Effect</th>\n",
       "      <th>EZA Unit Super Attack Name</th>\n",
       "      <th>EZA Unit Super Attack Effect</th>\n",
       "    </tr>\n",
       "  </thead>\n",
       "  <tbody>\n",
       "    <tr>\n",
       "      <th>0</th>\n",
       "      <td>Supreme Warrior Awakened</td>\n",
       "      <td>Super Saiyan Goku</td>\n",
       "      <td>80/100</td>\n",
       "      <td>1/10</td>\n",
       "      <td>SSR to UR</td>\n",
       "      <td>AGL to Super AGL</td>\n",
       "      <td>16/23</td>\n",
       "      <td>1001</td>\n",
       "      <td>30 Jan 2015</td>\n",
       "      <td>Prior to 30 Oct 2015</td>\n",
       "      <td>...</td>\n",
       "      <td>NaN</td>\n",
       "      <td>NaN</td>\n",
       "      <td>NaN</td>\n",
       "      <td>NaN</td>\n",
       "      <td>NaN</td>\n",
       "      <td>NaN</td>\n",
       "      <td>NaN</td>\n",
       "      <td>NaN</td>\n",
       "      <td>NaN</td>\n",
       "      <td>NaN</td>\n",
       "    </tr>\n",
       "    <tr>\n",
       "      <th>1</th>\n",
       "      <td>Pride Regained</td>\n",
       "      <td>Super Saiyan Vegeta</td>\n",
       "      <td>80/100</td>\n",
       "      <td>1/10</td>\n",
       "      <td>SSR to UR</td>\n",
       "      <td>TEQ to Extreme TEQ</td>\n",
       "      <td>16/23</td>\n",
       "      <td>1002</td>\n",
       "      <td>30 Jan 2015</td>\n",
       "      <td>Prior to 30 Oct 2015</td>\n",
       "      <td>...</td>\n",
       "      <td>NaN</td>\n",
       "      <td>NaN</td>\n",
       "      <td>NaN</td>\n",
       "      <td>NaN</td>\n",
       "      <td>NaN</td>\n",
       "      <td>NaN</td>\n",
       "      <td>NaN</td>\n",
       "      <td>NaN</td>\n",
       "      <td>NaN</td>\n",
       "      <td>NaN</td>\n",
       "    </tr>\n",
       "    <tr>\n",
       "      <th>2</th>\n",
       "      <td>The Saiyan Among Us</td>\n",
       "      <td>Goku</td>\n",
       "      <td>60/80</td>\n",
       "      <td>1/10</td>\n",
       "      <td>SR to SSR</td>\n",
       "      <td>STR to Super STR</td>\n",
       "      <td>10/14</td>\n",
       "      <td>1003</td>\n",
       "      <td>30 Jan 2015</td>\n",
       "      <td>Prior to 30 Oct 2015</td>\n",
       "      <td>...</td>\n",
       "      <td>NaN</td>\n",
       "      <td>NaN</td>\n",
       "      <td>NaN</td>\n",
       "      <td>NaN</td>\n",
       "      <td>NaN</td>\n",
       "      <td>NaN</td>\n",
       "      <td>NaN</td>\n",
       "      <td>NaN</td>\n",
       "      <td>NaN</td>\n",
       "      <td>NaN</td>\n",
       "    </tr>\n",
       "    <tr>\n",
       "      <th>3</th>\n",
       "      <td>Genius of War</td>\n",
       "      <td>Vegeta</td>\n",
       "      <td>60/80</td>\n",
       "      <td>1/10</td>\n",
       "      <td>SR to SSR</td>\n",
       "      <td>TEQ to Super TEQ</td>\n",
       "      <td>10/14</td>\n",
       "      <td>1004</td>\n",
       "      <td>30 Jan 2015</td>\n",
       "      <td>Prior to 30 Oct 2015</td>\n",
       "      <td>...</td>\n",
       "      <td>NaN</td>\n",
       "      <td>NaN</td>\n",
       "      <td>NaN</td>\n",
       "      <td>NaN</td>\n",
       "      <td>NaN</td>\n",
       "      <td>NaN</td>\n",
       "      <td>NaN</td>\n",
       "      <td>NaN</td>\n",
       "      <td>NaN</td>\n",
       "      <td>NaN</td>\n",
       "    </tr>\n",
       "    <tr>\n",
       "      <th>4</th>\n",
       "      <td>Emperor of Iniquity</td>\n",
       "      <td>Frieza (1st Form)</td>\n",
       "      <td>60/80</td>\n",
       "      <td>1/10</td>\n",
       "      <td>SR to SSR</td>\n",
       "      <td>STR to Extreme STR</td>\n",
       "      <td>8/12</td>\n",
       "      <td>1005</td>\n",
       "      <td>30 Jan 2015</td>\n",
       "      <td>Prior to 30 Oct 2015</td>\n",
       "      <td>...</td>\n",
       "      <td>NaN</td>\n",
       "      <td>NaN</td>\n",
       "      <td>NaN</td>\n",
       "      <td>NaN</td>\n",
       "      <td>NaN</td>\n",
       "      <td>NaN</td>\n",
       "      <td>NaN</td>\n",
       "      <td>NaN</td>\n",
       "      <td>NaN</td>\n",
       "      <td>NaN</td>\n",
       "    </tr>\n",
       "  </tbody>\n",
       "</table>\n",
       "<p>5 rows × 50 columns</p>\n",
       "</div>"
      ],
      "text/plain": [
       "                      Title            Character Max Level SA Level  \\\n",
       "0  Supreme Warrior Awakened    Super Saiyan Goku    80/100     1/10   \n",
       "1            Pride Regained  Super Saiyan Vegeta    80/100     1/10   \n",
       "2       The Saiyan Among Us                 Goku     60/80     1/10   \n",
       "3             Genius of War               Vegeta     60/80     1/10   \n",
       "4       Emperor of Iniquity    Frieza (1st Form)     60/80     1/10   \n",
       "\n",
       "      Rarity                Type   Cost    ID JP Release Date  \\\n",
       "0  SSR to UR    AGL to Super AGL  16/23  1001     30 Jan 2015   \n",
       "1  SSR to UR  TEQ to Extreme TEQ  16/23  1002     30 Jan 2015   \n",
       "2  SR to SSR    STR to Super STR  10/14  1003     30 Jan 2015   \n",
       "3  SR to SSR    TEQ to Super TEQ  10/14  1004     30 Jan 2015   \n",
       "4  SR to SSR  STR to Extreme STR   8/12  1005     30 Jan 2015   \n",
       "\n",
       "    Global Release Date  ... Active Skill Name Active Skill  \\\n",
       "0  Prior to 30 Oct 2015  ...               NaN          NaN   \n",
       "1  Prior to 30 Oct 2015  ...               NaN          NaN   \n",
       "2  Prior to 30 Oct 2015  ...               NaN          NaN   \n",
       "3  Prior to 30 Oct 2015  ...               NaN          NaN   \n",
       "4  Prior to 30 Oct 2015  ...               NaN          NaN   \n",
       "\n",
       "  Activation Condition EZA Active Skill Name EZA Active Skill  \\\n",
       "0                  NaN                   NaN              NaN   \n",
       "1                  NaN                   NaN              NaN   \n",
       "2                  NaN                   NaN              NaN   \n",
       "3                  NaN                   NaN              NaN   \n",
       "4                  NaN                   NaN              NaN   \n",
       "\n",
       "  EZA Activation Condition Unit Super Attack Name Unit Super Attack Effect  \\\n",
       "0                      NaN                    NaN                      NaN   \n",
       "1                      NaN                    NaN                      NaN   \n",
       "2                      NaN                    NaN                      NaN   \n",
       "3                      NaN                    NaN                      NaN   \n",
       "4                      NaN                    NaN                      NaN   \n",
       "\n",
       "  EZA Unit Super Attack Name EZA Unit Super Attack Effect  \n",
       "0                        NaN                          NaN  \n",
       "1                        NaN                          NaN  \n",
       "2                        NaN                          NaN  \n",
       "3                        NaN                          NaN  \n",
       "4                        NaN                          NaN  \n",
       "\n",
       "[5 rows x 50 columns]"
      ]
     },
     "execution_count": 3,
     "metadata": {},
     "output_type": "execute_result"
    }
   ],
   "source": [
    "cards_df.head()"
   ]
  },
  {
   "cell_type": "code",
   "execution_count": 4,
   "metadata": {},
   "outputs": [
    {
     "data": {
      "text/html": [
       "<div>\n",
       "<style scoped>\n",
       "    .dataframe tbody tr th:only-of-type {\n",
       "        vertical-align: middle;\n",
       "    }\n",
       "\n",
       "    .dataframe tbody tr th {\n",
       "        vertical-align: top;\n",
       "    }\n",
       "\n",
       "    .dataframe thead th {\n",
       "        text-align: right;\n",
       "    }\n",
       "</style>\n",
       "<table border=\"1\" class=\"dataframe\">\n",
       "  <thead>\n",
       "    <tr style=\"text-align: right;\">\n",
       "      <th></th>\n",
       "      <th>Title</th>\n",
       "      <th>Character</th>\n",
       "      <th>Series</th>\n",
       "      <th>Number</th>\n",
       "      <th>Rarity</th>\n",
       "      <th>Type</th>\n",
       "      <th>Description</th>\n",
       "      <th>HP</th>\n",
       "      <th>Attack</th>\n",
       "      <th>Japan Release Date</th>\n",
       "      <th>Global Release Date</th>\n",
       "    </tr>\n",
       "  </thead>\n",
       "  <tbody>\n",
       "    <tr>\n",
       "      <th>0</th>\n",
       "      <td>Pride Regained</td>\n",
       "      <td>Super Saiyan Vegeta</td>\n",
       "      <td>Series 2</td>\n",
       "      <td>44</td>\n",
       "      <td>Gold</td>\n",
       "      <td>TEQ</td>\n",
       "      <td>Can be recruited from Summons.</td>\n",
       "      <td>8400</td>\n",
       "      <td>7000</td>\n",
       "      <td>3 May 2021</td>\n",
       "      <td>26 Jul 2021</td>\n",
       "    </tr>\n",
       "    <tr>\n",
       "      <th>1</th>\n",
       "      <td>Time-traversing Evil</td>\n",
       "      <td>Cell (1st Form)</td>\n",
       "      <td>Series 3</td>\n",
       "      <td>104</td>\n",
       "      <td>Bronze</td>\n",
       "      <td>TEQ</td>\n",
       "      <td>Can be recruited from Summons.</td>\n",
       "      <td>3700</td>\n",
       "      <td>2450</td>\n",
       "      <td>26 July 2021</td>\n",
       "      <td>NaN</td>\n",
       "    </tr>\n",
       "    <tr>\n",
       "      <th>2</th>\n",
       "      <td>Red Ribbon Army's Grudge</td>\n",
       "      <td>Dr. Gero</td>\n",
       "      <td>Series 2</td>\n",
       "      <td>55</td>\n",
       "      <td>Silver</td>\n",
       "      <td>INT</td>\n",
       "      <td>Can be recruited from Summons.</td>\n",
       "      <td>5700</td>\n",
       "      <td>3800</td>\n",
       "      <td>3 May 2021</td>\n",
       "      <td>26 Jul 2021</td>\n",
       "    </tr>\n",
       "    <tr>\n",
       "      <th>3</th>\n",
       "      <td>Infinite Fighting Spirit</td>\n",
       "      <td>Android #17</td>\n",
       "      <td>Series 2</td>\n",
       "      <td>57</td>\n",
       "      <td>Silver</td>\n",
       "      <td>TEQ</td>\n",
       "      <td>Can be recruited from Summons.</td>\n",
       "      <td>6100</td>\n",
       "      <td>4050</td>\n",
       "      <td>3 May 2021</td>\n",
       "      <td>26 Jul 2021</td>\n",
       "    </tr>\n",
       "    <tr>\n",
       "      <th>4</th>\n",
       "      <td>Alluring Assassin</td>\n",
       "      <td>Android #18</td>\n",
       "      <td>Series 3</td>\n",
       "      <td>93</td>\n",
       "      <td>Silver</td>\n",
       "      <td>STR</td>\n",
       "      <td>Can be recruited from Summons.</td>\n",
       "      <td>6100</td>\n",
       "      <td>4050</td>\n",
       "      <td>26 July 2021</td>\n",
       "      <td>NaN</td>\n",
       "    </tr>\n",
       "  </tbody>\n",
       "</table>\n",
       "</div>"
      ],
      "text/plain": [
       "                      Title            Character    Series  Number  Rarity  \\\n",
       "0            Pride Regained  Super Saiyan Vegeta  Series 2      44    Gold   \n",
       "1      Time-traversing Evil      Cell (1st Form)  Series 3     104  Bronze   \n",
       "2  Red Ribbon Army's Grudge             Dr. Gero  Series 2      55  Silver   \n",
       "3  Infinite Fighting Spirit          Android #17  Series 2      57  Silver   \n",
       "4         Alluring Assassin          Android #18  Series 3      93  Silver   \n",
       "\n",
       "  Type                     Description    HP  Attack Japan Release Date  \\\n",
       "0  TEQ  Can be recruited from Summons.  8400    7000         3 May 2021   \n",
       "1  TEQ  Can be recruited from Summons.  3700    2450       26 July 2021   \n",
       "2  INT  Can be recruited from Summons.  5700    3800         3 May 2021   \n",
       "3  TEQ  Can be recruited from Summons.  6100    4050         3 May 2021   \n",
       "4  STR  Can be recruited from Summons.  6100    4050       26 July 2021   \n",
       "\n",
       "  Global Release Date  \n",
       "0         26 Jul 2021  \n",
       "1                 NaN  \n",
       "2         26 Jul 2021  \n",
       "3         26 Jul 2021  \n",
       "4                 NaN  "
      ]
     },
     "execution_count": 4,
     "metadata": {},
     "output_type": "execute_result"
    }
   ],
   "source": [
    "pettan_df.head()"
   ]
  },
  {
   "cell_type": "markdown",
   "metadata": {},
   "source": [
    "# Dokkan Battle Cards"
   ]
  },
  {
   "cell_type": "code",
   "execution_count": 5,
   "metadata": {
    "scrolled": true
   },
   "outputs": [
    {
     "data": {
      "text/plain": [
       "Transformation    35\n",
       "Exchange           9\n",
       "Rage               7\n",
       "Absorption         5\n",
       "Fusion             4\n",
       "Boost              4\n",
       "Special Fusion     3\n",
       "Evolution          2\n",
       "Potara Fusion      2\n",
       "Mutation           1\n",
       "Awakening          1\n",
       "Rejuvenation       1\n",
       "Deactivation       1\n",
       "Outfit Change      1\n",
       "Name: Transformation Type, dtype: int64"
      ]
     },
     "execution_count": 5,
     "metadata": {},
     "output_type": "execute_result"
    }
   ],
   "source": [
    "# Different types of character-changes and how many times they occur on cards\n",
    "cards_df['Transformation Type'].value_counts()"
   ]
  },
  {
   "cell_type": "code",
   "execution_count": 6,
   "metadata": {},
   "outputs": [
    {
     "data": {
      "text/plain": [
       "SSR to UR    786\n",
       "UR           673\n",
       "SR to SSR    265\n",
       "R to SR      115\n",
       "LR           108\n",
       "SSR           72\n",
       "R             61\n",
       "SR            44\n",
       "N to R        36\n",
       "N              2\n",
       "Name: Rarity, dtype: int64"
      ]
     },
     "execution_count": 6,
     "metadata": {},
     "output_type": "execute_result"
    }
   ],
   "source": [
    "cards_df['Rarity'].value_counts()"
   ]
  },
  {
   "cell_type": "code",
   "execution_count": 7,
   "metadata": {
    "scrolled": true
   },
   "outputs": [
    {
     "data": {
      "text/plain": [
       "0       [2210, 8282, 10282, 13282]\n",
       "1        [2135, 7920, 9920, 12920]\n",
       "2                     [1632, 6696]\n",
       "3                     [1574, 6457]\n",
       "4                     [1385, 5900]\n",
       "                   ...            \n",
       "2152                   [432, 2669]\n",
       "2159                   [561, 2769]\n",
       "2160                   [577, 2977]\n",
       "2161                   [577, 2847]\n",
       "2162                   [603, 2977]\n",
       "Name: HP, Length: 1995, dtype: object"
      ]
     },
     "execution_count": 7,
     "metadata": {},
     "output_type": "execute_result"
    }
   ],
   "source": [
    "# how to load in stats as lists\n",
    "cards_df['HP'].dropna().apply(lambda x: json.loads(x.replace(\"'\", '\"')))"
   ]
  },
  {
   "cell_type": "code",
   "execution_count": 8,
   "metadata": {},
   "outputs": [],
   "source": [
    "# HP, Attack, Defense, Special Skills - can be done like above\n",
    "# Categories, Links, Details, References - can't be"
   ]
  },
  {
   "cell_type": "markdown",
   "metadata": {},
   "source": [
    "I plan on reworking the dataset in the future so it is easier to work with the above 4 columns. I'd like to make the 4 columns listed on the top of the above cell a bit easier to work with as well (aka no need for the replace). \n",
    "\n",
    "I'll also look at missing type names in leader skills and other types of skills if needed. "
   ]
  },
  {
   "cell_type": "code",
   "execution_count": 9,
   "metadata": {},
   "outputs": [],
   "source": [
    "temp_df = cards_df[cards_df.T.apply(lambda x: str(x['ID'])[0] != '4')]\n",
    "temp_df = temp_df[temp_df['Rarity'].isin(['UR', 'LR'])]"
   ]
  },
  {
   "cell_type": "code",
   "execution_count": 10,
   "metadata": {},
   "outputs": [
    {
     "data": {
      "image/png": "[encoded data removed]",
      "text/plain": [
       "<Figure size 432x288 with 1 Axes>"
      ]
     },
     "metadata": {
      "needs_background": "light"
     },
     "output_type": "display_data"
    }
   ],
   "source": [
    "hp = temp_df['HP'].dropna().apply(lambda x: json.loads(x.replace(\"'\", '\"'))[-1]).astype(int)\n",
    "attack = temp_df['Attack'].dropna().apply(lambda x: json.loads(x.replace(\"'\", '\"'))[-1]).astype(int)\n",
    "defense = temp_df['Defense'].dropna().apply(lambda x: json.loads(x.replace(\"'\", '\"'))[-1]).astype(int)\n",
    "\n",
    "plt.scatter(x=attack, y=hp, c=defense / defense.max())\n",
    "plt.xticks([attack.min(), attack.max()])\n",
    "plt.yticks([hp.min(), hp.max()])\n",
    "plt.suptitle('Character Stats - Rainbowed at Max Level')\n",
    "plt.title('Color = Defense')\n",
    "plt.xlabel('Attack')\n",
    "plt.ylabel('HP');\n",
    "\n",
    "\"\"\"\n",
    "Scatterplot of only TUR and LRs, defense is color where lighter = higher defense\n",
    "Fairly minimalistic graph right now, would like to work on ticks later\n",
    "\"\"\";"
   ]
  },
  {
   "cell_type": "markdown",
   "metadata": {},
   "source": [
    "# Pettan Battle Cards"
   ]
  },
  {
   "cell_type": "code",
   "execution_count": 11,
   "metadata": {},
   "outputs": [
    {
     "data": {
      "text/plain": [
       "Series 4    37\n",
       "Series 2    37\n",
       "Series 3    37\n",
       "Series 1    37\n",
       "Name: Series, dtype: int64"
      ]
     },
     "execution_count": 11,
     "metadata": {},
     "output_type": "execute_result"
    }
   ],
   "source": [
    "# Same number of cards in each series\n",
    "pettan_df['Series'].value_counts()"
   ]
  },
  {
   "cell_type": "code",
   "execution_count": 12,
   "metadata": {},
   "outputs": [
    {
     "data": {
      "text/html": [
       "<div>\n",
       "<style scoped>\n",
       "    .dataframe tbody tr th:only-of-type {\n",
       "        vertical-align: middle;\n",
       "    }\n",
       "\n",
       "    .dataframe tbody tr th {\n",
       "        vertical-align: top;\n",
       "    }\n",
       "\n",
       "    .dataframe thead tr th {\n",
       "        text-align: left;\n",
       "    }\n",
       "\n",
       "    .dataframe thead tr:last-of-type th {\n",
       "        text-align: right;\n",
       "    }\n",
       "</style>\n",
       "<table border=\"1\" class=\"dataframe\">\n",
       "  <thead>\n",
       "    <tr>\n",
       "      <th></th>\n",
       "      <th colspan=\"4\" halign=\"left\">Rarity</th>\n",
       "    </tr>\n",
       "    <tr>\n",
       "      <th>Series</th>\n",
       "      <th>Series 1</th>\n",
       "      <th>Series 2</th>\n",
       "      <th>Series 3</th>\n",
       "      <th>Series 4</th>\n",
       "    </tr>\n",
       "    <tr>\n",
       "      <th>Rarity</th>\n",
       "      <th></th>\n",
       "      <th></th>\n",
       "      <th></th>\n",
       "      <th></th>\n",
       "    </tr>\n",
       "  </thead>\n",
       "  <tbody>\n",
       "    <tr>\n",
       "      <th>Bronze</th>\n",
       "      <td>16</td>\n",
       "      <td>16</td>\n",
       "      <td>14</td>\n",
       "      <td>15</td>\n",
       "    </tr>\n",
       "    <tr>\n",
       "      <th>Gold</th>\n",
       "      <td>7</td>\n",
       "      <td>8</td>\n",
       "      <td>8</td>\n",
       "      <td>8</td>\n",
       "    </tr>\n",
       "    <tr>\n",
       "      <th>Platinum</th>\n",
       "      <td>2</td>\n",
       "      <td>2</td>\n",
       "      <td>2</td>\n",
       "      <td>2</td>\n",
       "    </tr>\n",
       "    <tr>\n",
       "      <th>Silver</th>\n",
       "      <td>12</td>\n",
       "      <td>11</td>\n",
       "      <td>13</td>\n",
       "      <td>12</td>\n",
       "    </tr>\n",
       "  </tbody>\n",
       "</table>\n",
       "</div>"
      ],
      "text/plain": [
       "           Rarity                           \n",
       "Series   Series 1 Series 2 Series 3 Series 4\n",
       "Rarity                                      \n",
       "Bronze         16       16       14       15\n",
       "Gold            7        8        8        8\n",
       "Platinum        2        2        2        2\n",
       "Silver         12       11       13       12"
      ]
     },
     "execution_count": 12,
     "metadata": {},
     "output_type": "execute_result"
    }
   ],
   "source": [
    "# fairly similar rarity distribution over the series so far\n",
    "pd.DataFrame(pettan_df.groupby('Series')['Rarity'].value_counts()).unstack('Series')"
   ]
  },
  {
   "cell_type": "code",
   "execution_count": null,
   "metadata": {},
   "outputs": [],
   "source": []
  }
 ],
 "metadata": {
  "kernelspec": {
   "display_name": "Python 3",
   "language": "python",
   "name": "python3"
  },
  "language_info": {
   "codemirror_mode": {
    "name": "ipython",
    "version": 3
   },
   "file_extension": ".py",
   "mimetype": "text/x-python",
   "name": "python",
   "nbconvert_exporter": "python",
   "pygments_lexer": "ipython3",
   "version": "3.7.3"
  }
 },
 "nbformat": 4,
 "nbformat_minor": 4
}
