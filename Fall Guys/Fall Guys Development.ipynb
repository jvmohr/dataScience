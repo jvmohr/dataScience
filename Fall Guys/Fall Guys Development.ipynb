{
 "cells": [
  {
   "cell_type": "code",
   "execution_count": null,
   "metadata": {},
   "outputs": [],
   "source": [
    "# mostly testing here, one semi-final version later on"
   ]
  },
  {
   "cell_type": "code",
   "execution_count": null,
   "metadata": {},
   "outputs": [],
   "source": [
    "# use mongodb (actually gonna use pandas as it would be easier for others to use)"
   ]
  },
  {
   "cell_type": "code",
   "execution_count": 1,
   "metadata": {},
   "outputs": [],
   "source": [
    "import os, datetime, json\n",
    "import pandas as pd"
   ]
  },
  {
   "cell_type": "markdown",
   "metadata": {},
   "source": [
    "# Testing"
   ]
  },
  {
   "cell_type": "code",
   "execution_count": 2,
   "metadata": {},
   "outputs": [],
   "source": [
    "with open(os.path.join('C:\\\\Users','Joseph','AppData','LocalLow','Mediatonic','FallGuys_client','Player.log')) as f:\n",
    "    lines = f.read()"
   ]
  },
  {
   "cell_type": "code",
   "execution_count": 3,
   "metadata": {},
   "outputs": [],
   "source": [
    "lines = lines.split('\\n')\n",
    "\n",
    "episode_markers = []\n",
    "for i, line in enumerate(lines):\n",
    "    if '[CompletedEpisodeDto]' in line:\n",
    "        episode_markers.append(i)"
   ]
  },
  {
   "cell_type": "code",
   "execution_count": 4,
   "metadata": {},
   "outputs": [],
   "source": [
    "for j in episode_markers:\n",
    "    final_lines = []\n",
    "    temp_lines = lines[j:]\n",
    "    for line in temp_lines:\n",
    "        if '[ClientGameManager]' in line or ('>' not in line and '[' not in line): # end point\n",
    "            break\n",
    "        if line != \"\":\n",
    "            final_lines.append(line)"
   ]
  },
  {
   "cell_type": "code",
   "execution_count": 5,
   "metadata": {
    "scrolled": false
   },
   "outputs": [
    {
     "data": {
      "text/plain": [
       "['04:45:47.638: == [CompletedEpisodeDto] ==',\n",
       " '> Kudos: 180',\n",
       " '> Fame: 81',\n",
       " '> Crowns: 0',\n",
       " '[Round 0 | round_gauntlet_04]',\n",
       " '> Qualified: True',\n",
       " '> Position: 25',\n",
       " '> Kudos: 30',\n",
       " '> Fame: 15',\n",
       " '> Bonus Tier: 2',\n",
       " '> Bonus Kudos: 35',\n",
       " '> Bonus Fame: 18',\n",
       " '> BadgeId: bronze',\n",
       " '[Round 1 | round_biggestfan]',\n",
       " '> Qualified: True',\n",
       " '> Position: 18',\n",
       " '> Kudos: 20',\n",
       " '> Fame: 10',\n",
       " '> Bonus Tier: 2',\n",
       " '> Bonus Kudos: 35',\n",
       " '> Bonus Fame: 18',\n",
       " '> BadgeId: bronze',\n",
       " '[Round 2 | round_tunnel]',\n",
       " '> Qualified: False',\n",
       " '> Position: 31',\n",
       " '> Kudos: 60',\n",
       " '> Fame: 20',\n",
       " '> Bonus Tier: ',\n",
       " '> Bonus Kudos: 0',\n",
       " '> Bonus Fame: 0',\n",
       " '> BadgeId: ']"
      ]
     },
     "execution_count": 5,
     "metadata": {},
     "output_type": "execute_result"
    }
   ],
   "source": [
    "final_lines"
   ]
  },
  {
   "cell_type": "code",
   "execution_count": 12,
   "metadata": {
    "scrolled": false
   },
   "outputs": [
    {
     "data": {
      "text/plain": [
       "[['Round 0 | round_gauntlet_04',\n",
       "  'Qualified: True',\n",
       "  'Position: 25',\n",
       "  'Kudos: 30',\n",
       "  'Fame: 15',\n",
       "  'Bonus Tier: 2',\n",
       "  'Bonus Kudos: 35',\n",
       "  'Bonus Fame: 18',\n",
       "  'BadgeId: bronze'],\n",
       " ['Round 1 | round_biggestfan',\n",
       "  'Qualified: True',\n",
       "  'Position: 18',\n",
       "  'Kudos: 20',\n",
       "  'Fame: 10',\n",
       "  'Bonus Tier: 2',\n",
       "  'Bonus Kudos: 35',\n",
       "  'Bonus Fame: 18',\n",
       "  'BadgeId: bronze'],\n",
       " ['Round 2 | round_tunnel',\n",
       "  'Qualified: False',\n",
       "  'Position: 31',\n",
       "  'Kudos: 60',\n",
       "  'Fame: 20',\n",
       "  'Bonus Tier:',\n",
       "  'Bonus Kudos: 0',\n",
       "  'Bonus Fame: 0',\n",
       "  'BadgeId:']]"
      ]
     },
     "execution_count": 12,
     "metadata": {},
     "output_type": "execute_result"
    }
   ],
   "source": [
    "def cleanLines(lines):\n",
    "    return [line.replace('[', '').replace(']', '').replace('>', '').strip() for line in lines]\n",
    "\n",
    "# splits show into show data and rounds\n",
    "def roundSplit(lines):\n",
    "    lines = cleanLines(lines)\n",
    "    splits = []\n",
    "    for i, line in enumerate(lines):\n",
    "        if 'Round' in line:\n",
    "            splits.append(i)\n",
    "    \n",
    "    splits.append(0)\n",
    "    rounds = [lines[splits[i-1]:splits[i]] if i != len(splits)-1 else lines[splits[i-1]:]\n",
    "              for i in range(1, len(splits))]\n",
    "    \n",
    "    return lines[1:splits[0]], rounds\n",
    "\n",
    "showData, rounds = roundSplit(cleanLines(final_lines))\n",
    "rounds"
   ]
  },
  {
   "cell_type": "code",
   "execution_count": 30,
   "metadata": {},
   "outputs": [
    {
     "data": {
      "text/plain": [
       "['Kudos: 180', 'Fame: 81', 'Crowns: 0']"
      ]
     },
     "execution_count": 30,
     "metadata": {},
     "output_type": "execute_result"
    }
   ],
   "source": [
    "showData"
   ]
  },
  {
   "cell_type": "code",
   "execution_count": 18,
   "metadata": {},
   "outputs": [
    {
     "data": {
      "text/plain": [
       "[{'map': ' round_gauntlet_04',\n",
       "  'round_num': '0',\n",
       "  'Qualified': ' True',\n",
       "  'Position': ' 25',\n",
       "  'Kudos': ' 30',\n",
       "  'Fame': ' 15',\n",
       "  'Bonus Tier': ' 2',\n",
       "  'Bonus Kudos': ' 35',\n",
       "  'Bonus Fame': ' 18',\n",
       "  'BadgeId': ' bronze'},\n",
       " {'map': ' round_biggestfan',\n",
       "  'round_num': '1',\n",
       "  'Qualified': ' True',\n",
       "  'Position': ' 18',\n",
       "  'Kudos': ' 20',\n",
       "  'Fame': ' 10',\n",
       "  'Bonus Tier': ' 2',\n",
       "  'Bonus Kudos': ' 35',\n",
       "  'Bonus Fame': ' 18',\n",
       "  'BadgeId': ' bronze'},\n",
       " {'map': ' round_tunnel',\n",
       "  'round_num': '2',\n",
       "  'Qualified': ' False',\n",
       "  'Position': ' 31',\n",
       "  'Kudos': ' 60',\n",
       "  'Fame': ' 20',\n",
       "  'Bonus Tier': '',\n",
       "  'Bonus Kudos': ' 0',\n",
       "  'Bonus Fame': ' 0',\n",
       "  'BadgeId': ''}]"
      ]
     },
     "execution_count": 18,
     "metadata": {},
     "output_type": "execute_result"
    }
   ],
   "source": [
    "rounds_list = []\n",
    "for round_ in rounds:\n",
    "    round_dict = {'map': round_[0].split('|')[1], 'round_num':round_[0].split(' ')[1]}\n",
    "    for line in round_[1:]:\n",
    "        round_dict[line.split(':')[0]] = line.split(':')[1]\n",
    "    rounds_list.append(round_dict)\n",
    "rounds_list"
   ]
  },
  {
   "cell_type": "markdown",
   "metadata": {},
   "source": [
    "# Final Part"
   ]
  },
  {
   "cell_type": "code",
   "execution_count": 184,
   "metadata": {},
   "outputs": [],
   "source": [
    "# takes registered and connected lines\n",
    "# returns start times for rounds\n",
    "# (time at which game is found)\n",
    "def getStartTimes(reg, conne):\n",
    "    startTimes = []\n",
    "    \n",
    "    for i in range(len(conne)):\n",
    "        registeredTime = datetime.datetime.strptime(reg[i].split('at: ')[-1], '%m/%d/%Y %H:%M:%S %p')\n",
    "        connectedTime = datetime.datetime.strptime(conne[i].split(': [')[0], '%H:%M:%S.%f')\n",
    "        \n",
    "        d = (connectedTime - registeredTime)\n",
    "        startTimes.append(registeredTime + (d - datetime.timedelta(days=d.days, hours=HOURS_DIFFERENTIAL)))\n",
    "    \n",
    "    return startTimes"
   ]
  },
  {
   "cell_type": "code",
   "execution_count": 189,
   "metadata": {},
   "outputs": [],
   "source": [
    "# change these\n",
    "list_of_finals = ['round_fallmountain', 'round_hex', 'round_royalfumble', 'round_jumpshowdown']\n",
    "total_shows = 1 # read/write txt file\n",
    "HOURS_DIFFERENTIAL = 6 # have to subtract 6"
   ]
  },
  {
   "cell_type": "code",
   "execution_count": null,
   "metadata": {},
   "outputs": [],
   "source": [
    "with open(os.path.join('C:\\\\Users','Joseph','AppData','LocalLow','Mediatonic','FallGuys_client','Player.log')) as f:\n",
    "    lines = f.read()\n",
    "\n",
    "lines = lines.split('\\n')"
   ]
  },
  {
   "cell_type": "code",
   "execution_count": null,
   "metadata": {},
   "outputs": [],
   "source": [
    "with open(os.path.join('tash.txt')) as f:\n",
    "    lines = f.read()\n",
    "\n",
    "lines = lines.split('\\n')"
   ]
  },
  {
   "cell_type": "code",
   "execution_count": 250,
   "metadata": {
    "scrolled": false
   },
   "outputs": [
    {
     "name": "stdout",
     "output_type": "stream",
     "text": [
      "******************** 0 ********************\n",
      "reg 2020-11-14 04:38:15\n",
      "con 1900-01-01 04:39:30.981000\n",
      "total 2020-11-13 22:39:30.981000\n"
     ]
    }
   ],
   "source": [
    "# get first line of each new show and usernames used for show\n",
    "prevUser = '!!!!!!!!!!!!!!!'\n",
    "lookUser = True\n",
    "episode_markers = []\n",
    "usernames = []\n",
    "startRoundLines = []\n",
    "userEndRoundLines = []\n",
    "reg = []\n",
    "conne = []\n",
    "for i, line in enumerate(lines):\n",
    "    if lookUser and 'Sending login request' in line:\n",
    "        usernames.append(line.split(' player ')[-1].split(' networkID')[0].replace(',', ''))\n",
    "        prevUser = usernames[-1]\n",
    "        lookUser = False\n",
    "    elif '[CompletedEpisodeDto]' in line:\n",
    "        episode_markers.append(i)\n",
    "        lookUser = True\n",
    "    elif 'state from Countdown to Playing' in line:\n",
    "        startRoundLines.append(line.split(': [')[0])\n",
    "    elif '[ClientGameManager] Handling unspawn for player FallGuy' in line and prevUser in line:\n",
    "        userEndRoundLines.append(line.split(': [')[0])\n",
    "    elif '[QosManager] Registered' in line:\n",
    "        reg.append(line)\n",
    "    elif \"[StateConnectToGame] We're connected to the server!\" in line:\n",
    "        conne.append(line)\n",
    "\n",
    "# if no episodes found, end\n",
    "if len(episode_markers) == 0:\n",
    "    print('no episodes found')\n",
    "        \n",
    "# get time user spent in each round\n",
    "# (time round starts until they either finish or are eliminated)\n",
    "roundIdx = 0\n",
    "roundTimes = []\n",
    "for a, b in zip(startRoundLines, userEndRoundLines):\n",
    "    roundTimes.append(str(datetime.datetime.strptime(b, '%H:%M:%S.%f') - datetime.datetime.strptime(a, '%H:%M:%S.%f')))\n",
    "\n",
    "# gets start times for each show\n",
    "startTimes = getStartTimes(reg, conne)\n",
    "\n",
    "# **********************************************************\n",
    "# for each show/episode ************************************\n",
    "# **********************************************************\n",
    "for showIdx, (j, user) in enumerate(zip(episode_markers, usernames)):\n",
    "    this_show = total_shows\n",
    "    total_shows += 1\n",
    "    \n",
    "    # get lines for this show\n",
    "    final_lines = []\n",
    "    temp_lines = lines[j:]\n",
    "    for line in temp_lines:\n",
    "        if line == '':\n",
    "            continue\n",
    "        if '[ClientGameManager]' in line or ('>' not in line and '[' not in line): # end point\n",
    "            break\n",
    "        if line != \"\":\n",
    "            final_lines.append(line)\n",
    "    \n",
    "    # split data\n",
    "    showData, rounds = roundSplit(final_lines)\n",
    "    \n",
    "    # set show data\n",
    "    show_dict = {}\n",
    "    show_dict['Show ID'] = this_show # id\n",
    "    show_dict['Start Time'] = startTimes[showIdx]\n",
    "    show_dict['Season'] = 2 # season, eventually offload to fcn \n",
    "    show_dict['Time Taken'] = getTimeTaken(startTimes[showIdx], final_lines[0].split(': ==')[0]) # approximate time taken\n",
    "    show_dict['Final'] = rounds[-1][0].split('|')[-1].strip() in list_of_finals # final\n",
    "    show_dict['Rounds'] = len(rounds) # num rounds\n",
    "    show_dict['Username'] = user\n",
    "    show_dict['addID'] = final_lines[0].split(': ==')[0] # end time\n",
    "    # in group?\n",
    "    \n",
    "    # add other show data\n",
    "    for line in showData:\n",
    "        show_dict[line.split(':')[0]] = line.split(':')[1].strip()\n",
    "    \n",
    "    # ********************************************\n",
    "    # get data for each round in show ************\n",
    "    # ********************************************\n",
    "    rounds_list = []\n",
    "    \n",
    "    # for each round in the show/episode\n",
    "    for round_ in rounds:\n",
    "        round_dict = {'Show ID': this_show, \n",
    "                      'Round Num':round_[0].split(' ')[1].strip(), \n",
    "                      'Map': round_[0].split('|')[1].strip()}\n",
    "        round_dict['Time Spent'] = roundTimes[roundIdx]\n",
    "        roundIdx += 1\n",
    "        \n",
    "        for line in round_[1:]:\n",
    "            round_dict[line.split(':')[0]] = line.split(':')[1].strip()\n",
    "        rounds_list.append(round_dict)\n",
    "    \n",
    "    # TODO save\n",
    "    # save show_dict to one table\n",
    "    # save each dict in rounds_list to another table\n",
    "    \n",
    "    \n",
    "\n",
    "    \n",
    "with open('totalshows.txt') as f:\n",
    "    f.write(total_shows)"
   ]
  },
  {
   "cell_type": "code",
   "execution_count": 45,
   "metadata": {},
   "outputs": [
    {
     "name": "stdout",
     "output_type": "stream",
     "text": [
      "04:37:50.885: [QosManager] Loaded 26 fallback results:\n",
      "04:38:14.506: [QosManager] Periodic checks toggled - True\n",
      "04:38:14.506: [QosManager] Updated next periodic check - 11/14/2020 4:43:14 AM\n",
      "04:38:14.508: [QosManager] Attempting to trigger check\n",
      "04:38:14.508: [QosManager] Triggering check\n",
      "04:38:14.508: [QosManager] Starting server discovery\n",
      "04:38:14.508: [QosManager] Updated next periodic check - 11/14/2020 4:43:14 AM\n",
      "04:38:14.980: [QosManager] Starting to ping 26 servers\n",
      "04:38:15.316: [QosManager] Pinging finished\n",
      "04:38:15.316: [QosManager] Accepting results, no pre-existing accurate results exist\n",
      "04:38:15.317: [QosManager] Increasing max valid accurate results received to 26\n",
      "04:38:15.317: [QosManager] Saving 26 fallback results\n",
      "04:38:15.317: [QosManager] Registered 26 results at: 11/14/2020 4:38:15 AM\n",
      "04:38:15.317: [QosManager] Updated next periodic check - 11/14/2020 4:43:15 AM\n",
      "04:39:00.368: [QosManager] Periodic checks toggled - False\n",
      "04:39:30.820: [QosManager] Cancel ignored as _cancelToken is null\n",
      "04:45:56.729: [QosManager] Periodic checks toggled - True\n",
      "04:45:56.729: [QosManager] Updated next periodic check - 11/14/2020 4:50:56 AM\n",
      "04:45:56.730: [QosManager] Attempting to trigger check\n",
      "04:45:56.730: [QosManager] Triggering check\n",
      "04:45:56.730: [QosManager] Starting to ping 26 servers\n",
      "04:45:56.730: [QosManager] Updated next periodic check - 11/14/2020 4:50:56 AM\n",
      "04:45:57.072: [QosManager] Pinging finished\n",
      "04:45:57.072: [QosManager] Accepting results, requirement based on pre-existing accurate results was met (26/20)\n",
      "04:45:57.072: [QosManager] Saving 26 fallback results\n",
      "04:45:57.072: [QosManager] Registered 26 results at: 11/14/2020 4:45:57 AM\n",
      "04:45:57.072: [QosManager] Updated next periodic check - 11/14/2020 4:50:57 AM\n"
     ]
    }
   ],
   "source": [
    "time_lines = []\n",
    "for line in lines:\n",
    "    if '[QosManager]' in line:\n",
    "        print(line)\n",
    "        time_lines\n",
    "# Registered at seems to happen before match\n",
    "# can match up first with first episode and go from there\n",
    "\n",
    "# find match start and match end"
   ]
  },
  {
   "cell_type": "code",
   "execution_count": 50,
   "metadata": {},
   "outputs": [],
   "source": [
    "with open(os.path.join('C:\\\\Users','Joseph','AppData','LocalLow','Mediatonic','FallGuys_client','Player.log')) as f:\n",
    "    lines2 = f.read()\n",
    "\n",
    "lines2 = lines2.split('\\n')"
   ]
  },
  {
   "cell_type": "code",
   "execution_count": 186,
   "metadata": {},
   "outputs": [
    {
     "name": "stdout",
     "output_type": "stream",
     "text": [
      "07:50:11.458: [ClientGlobalGameState] Sending login request for player Fast Swimming Panther, networkID 3FB5D657\n",
      "07:51:07.744: [GameSession] Changing state from Precountdown to Countdown\n",
      "07:51:12.728: [GameSession] Changing state from Countdown to Playing\n",
      "07:52:08.996: [ClientGameManager] Handling unspawn for player FallGuy [24] Fast Swimming Panther (FG.Common.MPGNetObject)\n",
      "07:52:20.766: [GameSession] Changing state from Playing to GameOver\n",
      "07:52:23.510: [GameSession] Changing state from GameOver to Results\n",
      "07:52:41.378: [ClientGlobalGameState] Sending login request for player Fast Swimming Panther, networkID 3FB5D657\n",
      "07:53:19.813: [GameSession] Changing state from Precountdown to Countdown\n",
      "07:53:24.812: [GameSession] Changing state from Countdown to Playing\n",
      "07:53:34.982: [ClientGameManager] Handling unspawn for player FallGuy [156] Fast Swimming Panther (FG.Common.MPGNetObject)\n",
      "07:53:35.746: == [CompletedEpisodeDto] ==\n",
      "07:53:53.378: [ClientGlobalGameState] Sending login request for player Fast Swimming Panther, networkID 3FB5D657\n",
      "07:54:54.349: [GameSession] Changing state from Precountdown to Countdown\n",
      "07:54:59.329: [GameSession] Changing state from Countdown to Playing\n",
      "07:56:00.084: [ClientGameManager] Handling unspawn for player FallGuy [13] Fast Swimming Panther (FG.Common.MPGNetObject)\n",
      "07:56:44.667: [GameSession] Changing state from Playing to GameOver\n",
      "07:56:47.415: [GameSession] Changing state from GameOver to Results\n",
      "07:57:05.282: [ClientGlobalGameState] Sending login request for player Fast Swimming Panther, networkID 3FB5D657\n",
      "07:57:43.751: [GameSession] Changing state from Precountdown to Countdown\n",
      "07:57:48.768: [GameSession] Changing state from Countdown to Playing\n",
      "07:59:00.320: [ClientGameManager] Handling unspawn for player FallGuy [164] Fast Swimming Panther (FG.Common.MPGNetObject)\n",
      "07:59:39.137: [GameSession] Changing state from Playing to GameOver\n",
      "07:59:41.901: [GameSession] Changing state from GameOver to Results\n",
      "07:59:59.753: [ClientGlobalGameState] Sending login request for player Fast Swimming Panther, networkID 3FB5D657\n",
      "08:00:26.253: [GameSession] Changing state from Precountdown to Countdown\n",
      "08:00:31.270: [GameSession] Changing state from Countdown to Playing\n",
      "08:01:51.305: [ClientGameManager] Handling unspawn for player FallGuy [206] Fast Swimming Panther (FG.Common.MPGNetObject)\n",
      "08:01:51.921: == [CompletedEpisodeDto] ==\n"
     ]
    }
   ],
   "source": [
    "for line in lines2:\n",
    "    if 'Sending login request' in line:\n",
    "        print(line)\n",
    "    if '[GameSession]' in line:\n",
    "        print(line)\n",
    "    if '[CompletedEpisodeDto]' in line:\n",
    "        print(line)\n",
    "    if '[ClientGameManager] Handling unspawn for player FallGuy' in line and 'Fast Swimming Panther' in line:\n",
    "        print(line)"
   ]
  },
  {
   "cell_type": "code",
   "execution_count": 104,
   "metadata": {
    "scrolled": true
   },
   "outputs": [
    {
     "name": "stdout",
     "output_type": "stream",
     "text": [
      "['> Kudos: 120', '> Fame: 60', '> Crowns: 0']\n",
      "['> Kudos: 250', '> Fame: 115', '> Crowns: 0']\n",
      "['Fast Swimming Panther', 'Fast Swimming Panther']\n"
     ]
    }
   ],
   "source": [
    "episode_markers2 = []\n",
    "usernames = []\n",
    "prevUser = '!!!!!!!!!!!!!!!'\n",
    "lookUser = True\n",
    "startRoundLines = []\n",
    "userEndRoundLines = []\n",
    "for i, line in enumerate(lines2):\n",
    "    if lookUser and 'Sending login request' in line:\n",
    "        usernames.append(line.split(' player ')[-1].split(' networkID')[0].replace(',', ''))\n",
    "        prevUser = usernames[-1]\n",
    "        lookUser = False\n",
    "    elif '[CompletedEpisodeDto]' in line:\n",
    "        episode_markers2.append(i)\n",
    "        lookUser = True\n",
    "    elif 'state from Countdown to Playing' in line:\n",
    "        startRoundLines.append(line.split(': [')[0])\n",
    "    elif '[ClientGameManager] Handling unspawn for player FallGuy' in line and prevUser in line:\n",
    "        userEndRoundLines.append(line.split(': [')[0])\n",
    "\n",
    "# for each show/episode\n",
    "for j, user in zip(episode_markers2, usernames):\n",
    "    # get lines for this show\n",
    "    final_lines2 = []\n",
    "    temp_lines = lines2[j:]\n",
    "    \n",
    "    for line in temp_lines:\n",
    "        if line == '':\n",
    "            continue\n",
    "        if '[ClientGameManager]' in line or ('>' not in line and '[' not in line): # end point\n",
    "            break\n",
    "        if line != \"\":\n",
    "            final_lines2.append(line)\n",
    "    \n",
    "    # split data\n",
    "    showData, rounds = roundSplit(final_lines2)\n",
    "    print(showData)\n",
    "print(usernames)"
   ]
  },
  {
   "cell_type": "code",
   "execution_count": 123,
   "metadata": {},
   "outputs": [
    {
     "name": "stdout",
     "output_type": "stream",
     "text": [
      "07:49:15.442: [QosManager] Registered 26 results at: 11/14/2020 7:49:15 AM\n",
      "07:50:11.457: [StateConnectToGame] We're connected to the server! Host = 107.181.173.201:8177\n",
      "07:53:44.363: [QosManager] Registered 26 results at: 11/14/2020 7:53:44 AM\n",
      "07:53:53.378: [StateConnectToGame] We're connected to the server! Host = 128.14.211.74:8077\n",
      "08:02:02.220: [QosManager] Registered 26 results at: 11/14/2020 8:02:02 AM\n"
     ]
    }
   ],
   "source": [
    "# get time\n",
    "# usually an extra one (one more than number of shows played)\n",
    "reg = []\n",
    "conne = []\n",
    "for line in lines2:\n",
    "    if '[QosManager] Registered' in line:\n",
    "        print(line)\n",
    "        reg.append(line)\n",
    "    if \"[StateConnectToGame] We're connected to the server!\" in line:\n",
    "        print(line)\n",
    "        conne.append(line)"
   ]
  },
  {
   "cell_type": "code",
   "execution_count": 180,
   "metadata": {
    "scrolled": true
   },
   "outputs": [
    {
     "name": "stdout",
     "output_type": "stream",
     "text": [
      "******************** 0 ********************\n",
      "reg 2020-11-14 07:49:15\n",
      "con 1900-01-01 07:50:11.457000\n",
      "total 2020-11-14 01:50:11.457000\n",
      "******************** 1 ********************\n",
      "reg 2020-11-14 07:53:44\n",
      "con 1900-01-01 07:53:53.378000\n",
      "total 2020-11-14 01:53:53.378000\n"
     ]
    }
   ],
   "source": [
    "startTimes = []\n",
    "for i in range(len(conne)):\n",
    "    print(\"*\"*20, i, \"*\"*20)\n",
    "    registeredTime = datetime.datetime.strptime(reg[i].split('at: ')[-1], '%m/%d/%Y %H:%M:%S %p')\n",
    "    print('reg', registeredTime)\n",
    "    connectedTime = datetime.datetime.strptime(conne[i].split(': [')[0], '%H:%M:%S.%f')\n",
    "    print('con', connectedTime)\n",
    "    d = (connectedTime - registeredTime)\n",
    "    print('total', registeredTime + (d - datetime.timedelta(days=d.days, hours=HOURS_DIFFERENTIAL)))\n",
    "    startTimes.append(registeredTime + (d - datetime.timedelta(days=d.days, hours=HOURS_DIFFERENTIAL)))"
   ]
  },
  {
   "cell_type": "code",
   "execution_count": 251,
   "metadata": {},
   "outputs": [
    {
     "data": {
      "text/plain": [
       "{'Show ID': 11,\n",
       " 'Start Time': datetime.datetime(2020, 11, 13, 22, 39, 30, 981000),\n",
       " 'Season': 2,\n",
       " 'Time Taken': '06:16.657000',\n",
       " 'Final': False,\n",
       " 'Rounds': 3,\n",
       " 'Username': 'Fast Swimming Panther',\n",
       " 'addID': '04:45:47.638',\n",
       " 'Kudos': '180',\n",
       " 'Fame': '81',\n",
       " 'Crowns': '0'}"
      ]
     },
     "execution_count": 251,
     "metadata": {},
     "output_type": "execute_result"
    }
   ],
   "source": [
    "show_dict"
   ]
  },
  {
   "cell_type": "code",
   "execution_count": 255,
   "metadata": {
    "scrolled": false
   },
   "outputs": [
    {
     "data": {
      "text/plain": [
       "{'Show ID': 11,\n",
       " 'Round Num': '1',\n",
       " 'Map': 'round_biggestfan',\n",
       " 'Time Spent': '0:01:58.270000',\n",
       " 'Qualified': 'True',\n",
       " 'Position': '18',\n",
       " 'Kudos': '20',\n",
       " 'Fame': '10',\n",
       " 'Bonus Tier': '2',\n",
       " 'Bonus Kudos': '35',\n",
       " 'Bonus Fame': '18',\n",
       " 'BadgeId': 'bronze'}"
      ]
     },
     "execution_count": 255,
     "metadata": {},
     "output_type": "execute_result"
    }
   ],
   "source": [
    "rounds_list[1]"
   ]
  },
  {
   "cell_type": "markdown",
   "metadata": {},
   "source": [
    "### time per round"
   ]
  },
  {
   "cell_type": "code",
   "execution_count": 245,
   "metadata": {},
   "outputs": [
    {
     "data": {
      "text/plain": [
       "'0:06:16.657000'"
      ]
     },
     "execution_count": 245,
     "metadata": {},
     "output_type": "execute_result"
    }
   ],
   "source": [
    "# time taken\n",
    "d = datetime.datetime.strptime(final_lines[0].split(': ==')[0], '%H:%M:%S.%f') - startTimes[showIdx]\n",
    "str(d - datetime.timedelta(days=d.days, hours=HOURS_DIFFERENTIAL))"
   ]
  },
  {
   "cell_type": "code",
   "execution_count": 248,
   "metadata": {},
   "outputs": [],
   "source": [
    "def getTimeTaken(start, end):\n",
    "    d = datetime.datetime.strptime(end, '%H:%M:%S.%f') - start\n",
    "    # start time was already adjusted for HOURS_DIFFERENTIAL, so need to again\n",
    "    return str(d - datetime.timedelta(days=d.days, hours=HOURS_DIFFERENTIAL))[2:] # so hours isn't included"
   ]
  },
  {
   "cell_type": "code",
   "execution_count": 249,
   "metadata": {},
   "outputs": [
    {
     "data": {
      "text/plain": [
       "'06:16.657000'"
      ]
     },
     "execution_count": 249,
     "metadata": {},
     "output_type": "execute_result"
    }
   ],
   "source": [
    "getTimeTaken(startTimes[showIdx], final_lines[0].split(': ==')[0])"
   ]
  },
  {
   "cell_type": "code",
   "execution_count": 280,
   "metadata": {},
   "outputs": [
    {
     "data": {
      "text/html": [
       "<div>\n",
       "<style scoped>\n",
       "    .dataframe tbody tr th:only-of-type {\n",
       "        vertical-align: middle;\n",
       "    }\n",
       "\n",
       "    .dataframe tbody tr th {\n",
       "        vertical-align: top;\n",
       "    }\n",
       "\n",
       "    .dataframe thead th {\n",
       "        text-align: right;\n",
       "    }\n",
       "</style>\n",
       "<table border=\"1\" class=\"dataframe\">\n",
       "  <thead>\n",
       "    <tr style=\"text-align: right;\">\n",
       "      <th></th>\n",
       "      <th>Show ID</th>\n",
       "      <th>Start Time</th>\n",
       "      <th>Season</th>\n",
       "      <th>Time Taken</th>\n",
       "      <th>Final</th>\n",
       "      <th>Rounds</th>\n",
       "      <th>Username</th>\n",
       "      <th>addID</th>\n",
       "      <th>Kudos</th>\n",
       "      <th>Fame</th>\n",
       "      <th>Crowns</th>\n",
       "    </tr>\n",
       "  </thead>\n",
       "  <tbody>\n",
       "    <tr>\n",
       "      <th>0</th>\n",
       "      <td>11</td>\n",
       "      <td>2020-11-13 22:39:30.981</td>\n",
       "      <td>2</td>\n",
       "      <td>06:16.657000</td>\n",
       "      <td>False</td>\n",
       "      <td>3</td>\n",
       "      <td>Fast Swimming Panther</td>\n",
       "      <td>04:45:47.638</td>\n",
       "      <td>180</td>\n",
       "      <td>81</td>\n",
       "      <td>0</td>\n",
       "    </tr>\n",
       "  </tbody>\n",
       "</table>\n",
       "</div>"
      ],
      "text/plain": [
       "  Show ID              Start Time Season    Time Taken  Final Rounds  \\\n",
       "0      11 2020-11-13 22:39:30.981      2  06:16.657000  False      3   \n",
       "\n",
       "                Username         addID Kudos Fame Crowns  \n",
       "0  Fast Swimming Panther  04:45:47.638   180   81      0  "
      ]
     },
     "execution_count": 280,
     "metadata": {},
     "output_type": "execute_result"
    }
   ],
   "source": [
    "new_shows_df = pd.DataFrame(pd.Series(show_dict)).T\n",
    "new_shows_df"
   ]
  },
  {
   "cell_type": "code",
   "execution_count": 281,
   "metadata": {
    "scrolled": true
   },
   "outputs": [
    {
     "data": {
      "text/html": [
       "<div>\n",
       "<style scoped>\n",
       "    .dataframe tbody tr th:only-of-type {\n",
       "        vertical-align: middle;\n",
       "    }\n",
       "\n",
       "    .dataframe tbody tr th {\n",
       "        vertical-align: top;\n",
       "    }\n",
       "\n",
       "    .dataframe thead th {\n",
       "        text-align: right;\n",
       "    }\n",
       "</style>\n",
       "<table border=\"1\" class=\"dataframe\">\n",
       "  <thead>\n",
       "    <tr style=\"text-align: right;\">\n",
       "      <th></th>\n",
       "      <th>Show ID</th>\n",
       "      <th>Round Num</th>\n",
       "      <th>Map</th>\n",
       "      <th>Time Spent</th>\n",
       "      <th>Qualified</th>\n",
       "      <th>Position</th>\n",
       "      <th>Kudos</th>\n",
       "      <th>Fame</th>\n",
       "      <th>Bonus Tier</th>\n",
       "      <th>Bonus Kudos</th>\n",
       "      <th>Bonus Fame</th>\n",
       "      <th>BadgeId</th>\n",
       "    </tr>\n",
       "  </thead>\n",
       "  <tbody>\n",
       "    <tr>\n",
       "      <th>0</th>\n",
       "      <td>11</td>\n",
       "      <td>0</td>\n",
       "      <td>round_gauntlet_04</td>\n",
       "      <td>0:01:14.952000</td>\n",
       "      <td>True</td>\n",
       "      <td>25</td>\n",
       "      <td>30</td>\n",
       "      <td>15</td>\n",
       "      <td>2</td>\n",
       "      <td>35</td>\n",
       "      <td>18</td>\n",
       "      <td>bronze</td>\n",
       "    </tr>\n",
       "    <tr>\n",
       "      <th>1</th>\n",
       "      <td>11</td>\n",
       "      <td>1</td>\n",
       "      <td>round_biggestfan</td>\n",
       "      <td>0:01:58.270000</td>\n",
       "      <td>True</td>\n",
       "      <td>18</td>\n",
       "      <td>20</td>\n",
       "      <td>10</td>\n",
       "      <td>2</td>\n",
       "      <td>35</td>\n",
       "      <td>18</td>\n",
       "      <td>bronze</td>\n",
       "    </tr>\n",
       "    <tr>\n",
       "      <th>2</th>\n",
       "      <td>11</td>\n",
       "      <td>2</td>\n",
       "      <td>round_tunnel</td>\n",
       "      <td>0:00:10.102000</td>\n",
       "      <td>False</td>\n",
       "      <td>31</td>\n",
       "      <td>60</td>\n",
       "      <td>20</td>\n",
       "      <td></td>\n",
       "      <td>0</td>\n",
       "      <td>0</td>\n",
       "      <td></td>\n",
       "    </tr>\n",
       "  </tbody>\n",
       "</table>\n",
       "</div>"
      ],
      "text/plain": [
       "   Show ID Round Num                Map      Time Spent Qualified Position  \\\n",
       "0       11         0  round_gauntlet_04  0:01:14.952000      True       25   \n",
       "1       11         1   round_biggestfan  0:01:58.270000      True       18   \n",
       "2       11         2       round_tunnel  0:00:10.102000     False       31   \n",
       "\n",
       "  Kudos Fame Bonus Tier Bonus Kudos Bonus Fame BadgeId  \n",
       "0    30   15          2          35         18  bronze  \n",
       "1    20   10          2          35         18  bronze  \n",
       "2    60   20                      0          0          "
      ]
     },
     "execution_count": 281,
     "metadata": {},
     "output_type": "execute_result"
    }
   ],
   "source": [
    "new_rounds_df = pd.DataFrame(rounds_list)\n",
    "new_rounds_df"
   ]
  },
  {
   "cell_type": "code",
   "execution_count": 282,
   "metadata": {},
   "outputs": [],
   "source": [
    "try:\n",
    "    #load them\n",
    "    shows_df = pd.read_csv(os.path.join('data', 'shows.csv'))\n",
    "    rounds_df = pd.read_csv(os.path.join('data', 'rounds.csv'))\n",
    "    \n",
    "    # append\n",
    "    shows_df = shows_df.append(new_shows_df, ignore_index=True)\n",
    "    rounds_df = rounds_df.append(new_rounds_df, ignore_index=True)\n",
    "except:\n",
    "    # first time\n",
    "    shows_df = new_shows_df\n",
    "    rounds_df = new_rounds_df\n",
    "\n",
    "# write them to their respective files\n",
    "shows_df.to_csv(os.path.join('data', 'shows.csv'), index=False)\n",
    "rounds_df.to_csv(os.path.join('data', 'rounds.csv'), index=False)"
   ]
  },
  {
   "cell_type": "code",
   "execution_count": null,
   "metadata": {},
   "outputs": [],
   "source": []
  }
 ],
 "metadata": {
  "kernelspec": {
   "display_name": "Python 3",
   "language": "python",
   "name": "python3"
  },
  "language_info": {
   "codemirror_mode": {
    "name": "ipython",
    "version": 3
   },
   "file_extension": ".py",
   "mimetype": "text/x-python",
   "name": "python",
   "nbconvert_exporter": "python",
   "pygments_lexer": "ipython3",
   "version": "3.7.3"
  }
 },
 "nbformat": 4,
 "nbformat_minor": 4
}
