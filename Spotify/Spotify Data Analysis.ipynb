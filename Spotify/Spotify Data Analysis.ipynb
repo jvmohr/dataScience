{
 "cells": [
  {
   "cell_type": "code",
   "execution_count": 1,
   "metadata": {},
   "outputs": [],
   "source": [
    "# https://github.com/voila-gallery/voila-spotify/blob/master/Spotify_viewer.ipynb\n",
    "\n",
    "import pandas as pd\n",
    "import os, json, datetime\n",
    "import matplotlib.pyplot as plt\n",
    "import spotify_fcns as sfy\n",
    "from calendar import monthrange\n",
    "\n",
    "# not as fun right now as all data is from the same month\n",
    "week_days = ['Mon', 'Tue', 'Wed', 'Thu', 'Fri', 'Sat', 'Sun']\n",
    "months = ['', 'January', 'February', 'March', 'April', 'May', 'June', \n",
    "          'July', 'August', 'September', 'October', 'November', 'December']\n",
    "\n",
    "# for multiple files from different downloads, find way to join then"
   ]
  },
  {
   "cell_type": "code",
   "execution_count": 2,
   "metadata": {},
   "outputs": [
    {
     "data": {
      "text/html": [
       "<div>\n",
       "<style scoped>\n",
       "    .dataframe tbody tr th:only-of-type {\n",
       "        vertical-align: middle;\n",
       "    }\n",
       "\n",
       "    .dataframe tbody tr th {\n",
       "        vertical-align: top;\n",
       "    }\n",
       "\n",
       "    .dataframe thead th {\n",
       "        text-align: right;\n",
       "    }\n",
       "</style>\n",
       "<table border=\"1\" class=\"dataframe\">\n",
       "  <thead>\n",
       "    <tr style=\"text-align: right;\">\n",
       "      <th></th>\n",
       "      <th>endTime</th>\n",
       "      <th>artistName</th>\n",
       "      <th>trackName</th>\n",
       "      <th>msPlayed</th>\n",
       "    </tr>\n",
       "  </thead>\n",
       "  <tbody>\n",
       "    <tr>\n",
       "      <th>0</th>\n",
       "      <td>2021-01-01 20:02</td>\n",
       "      <td>OneRepublic</td>\n",
       "      <td>Better</td>\n",
       "      <td>204386</td>\n",
       "    </tr>\n",
       "    <tr>\n",
       "      <th>1</th>\n",
       "      <td>2021-01-01 20:05</td>\n",
       "      <td>OneRepublic</td>\n",
       "      <td>Love Runs Out</td>\n",
       "      <td>224226</td>\n",
       "    </tr>\n",
       "    <tr>\n",
       "      <th>2</th>\n",
       "      <td>2021-01-01 20:09</td>\n",
       "      <td>Axwell /\\ Ingrosso</td>\n",
       "      <td>More Than You Know</td>\n",
       "      <td>203000</td>\n",
       "    </tr>\n",
       "    <tr>\n",
       "      <th>3</th>\n",
       "      <td>2021-01-01 20:13</td>\n",
       "      <td>Stromae</td>\n",
       "      <td>ave cesaria</td>\n",
       "      <td>249520</td>\n",
       "    </tr>\n",
       "    <tr>\n",
       "      <th>4</th>\n",
       "      <td>2021-01-01 20:15</td>\n",
       "      <td>Panic! At The Disco</td>\n",
       "      <td>Emperor's New Clothes</td>\n",
       "      <td>158666</td>\n",
       "    </tr>\n",
       "    <tr>\n",
       "      <th>...</th>\n",
       "      <td>...</td>\n",
       "      <td>...</td>\n",
       "      <td>...</td>\n",
       "      <td>...</td>\n",
       "    </tr>\n",
       "    <tr>\n",
       "      <th>1204</th>\n",
       "      <td>2021-02-09 18:20</td>\n",
       "      <td>Jon Bellion</td>\n",
       "      <td>All Time Low</td>\n",
       "      <td>217603</td>\n",
       "    </tr>\n",
       "    <tr>\n",
       "      <th>1205</th>\n",
       "      <td>2021-02-09 18:24</td>\n",
       "      <td>AJR</td>\n",
       "      <td>My Calling</td>\n",
       "      <td>236400</td>\n",
       "    </tr>\n",
       "    <tr>\n",
       "      <th>1206</th>\n",
       "      <td>2021-02-09 20:10</td>\n",
       "      <td>Bastille</td>\n",
       "      <td>Good Lesson</td>\n",
       "      <td>210933</td>\n",
       "    </tr>\n",
       "    <tr>\n",
       "      <th>1207</th>\n",
       "      <td>2021-02-09 20:13</td>\n",
       "      <td>American Authors</td>\n",
       "      <td>I Wanna Go Out</td>\n",
       "      <td>186000</td>\n",
       "    </tr>\n",
       "    <tr>\n",
       "      <th>1208</th>\n",
       "      <td>2021-02-09 20:17</td>\n",
       "      <td>Grouplove</td>\n",
       "      <td>Tongue Tied</td>\n",
       "      <td>218013</td>\n",
       "    </tr>\n",
       "  </tbody>\n",
       "</table>\n",
       "<p>1209 rows × 4 columns</p>\n",
       "</div>"
      ],
      "text/plain": [
       "               endTime           artistName              trackName  msPlayed\n",
       "0     2021-01-01 20:02          OneRepublic                 Better    204386\n",
       "1     2021-01-01 20:05          OneRepublic          Love Runs Out    224226\n",
       "2     2021-01-01 20:09   Axwell /\\ Ingrosso     More Than You Know    203000\n",
       "3     2021-01-01 20:13              Stromae            ave cesaria    249520\n",
       "4     2021-01-01 20:15  Panic! At The Disco  Emperor's New Clothes    158666\n",
       "...                ...                  ...                    ...       ...\n",
       "1204  2021-02-09 18:20          Jon Bellion           All Time Low    217603\n",
       "1205  2021-02-09 18:24                  AJR             My Calling    236400\n",
       "1206  2021-02-09 20:10             Bastille            Good Lesson    210933\n",
       "1207  2021-02-09 20:13     American Authors         I Wanna Go Out    186000\n",
       "1208  2021-02-09 20:17            Grouplove            Tongue Tied    218013\n",
       "\n",
       "[1209 rows x 4 columns]"
      ]
     },
     "execution_count": 2,
     "metadata": {},
     "output_type": "execute_result"
    }
   ],
   "source": [
    "sp_df = pd.read_json(os.path.join('MyData', 'StreamingHistory0.json'))\n",
    "sp_df"
   ]
  },
  {
   "cell_type": "code",
   "execution_count": 3,
   "metadata": {},
   "outputs": [
    {
     "data": {
      "text/plain": [
       "Justin Timberlake      171\n",
       "OneRepublic            115\n",
       "Bastille                74\n",
       "Taylor Swift            63\n",
       "Shawn Mendes            56\n",
       "Jon Bellion             47\n",
       "Imagine Dragons         46\n",
       "Panic! At The Disco     43\n",
       "Train                   29\n",
       "Twenty One Pilots       25\n",
       "Charlie Puth            24\n",
       "Zedd                    22\n",
       "Name: artistName, dtype: int64"
      ]
     },
     "execution_count": 3,
     "metadata": {},
     "output_type": "execute_result"
    }
   ],
   "source": [
    "artist_counts = sp_df['artistName'].value_counts()\n",
    "artist_counts[ artist_counts > 20 ]"
   ]
  },
  {
   "cell_type": "code",
   "execution_count": 4,
   "metadata": {},
   "outputs": [
    {
     "data": {
      "text/plain": [
       "Mirrors                                       46\n",
       "Teach Me How To Love                          29\n",
       "Drive By                                      27\n",
       "All Time Low - Acoustic                       26\n",
       "I Know Places                                 24\n",
       "LoveStoned / I Think She Knows (Interlude)    20\n",
       "All Time Low                                  20\n",
       "slow motion                                   18\n",
       "My Love (feat. T.I.)                          16\n",
       "Fire                                          15\n",
       "Beautiful Now                                 15\n",
       "I've Gotta Be Me                              15\n",
       "FRIENDS                                       14\n",
       "Gone, Gone, Gone                              14\n",
       "More Than You Know                            14\n",
       "Good Life                                     14\n",
       "Say Something (feat. Chris Stapleton)         13\n",
       "Nothin' Else                                  13\n",
       "Unknown Track                                 12\n",
       "Chasing The Sun                               12\n",
       "Te Quiero                                     11\n",
       "Halo                                          11\n",
       "Rock Your Body                                11\n",
       "One Call Away                                 11\n",
       "Made For You                                  11\n",
       "Name: trackName, dtype: int64"
      ]
     },
     "execution_count": 4,
     "metadata": {},
     "output_type": "execute_result"
    }
   ],
   "source": [
    "track_counts = sp_df['trackName'].value_counts()\n",
    "track_counts[ track_counts > 10 ]"
   ]
  },
  {
   "cell_type": "code",
   "execution_count": 5,
   "metadata": {},
   "outputs": [
    {
     "data": {
      "text/plain": [
       "406.1956"
      ]
     },
     "execution_count": 5,
     "metadata": {},
     "output_type": "execute_result"
    }
   ],
   "source": [
    "sp_df[ sp_df['artistName'] == 'OneRepublic' ]['msPlayed'].sum() / 1000 / 60 # minutes"
   ]
  },
  {
   "cell_type": "code",
   "execution_count": 6,
   "metadata": {},
   "outputs": [
    {
     "data": {
      "text/plain": [
       "artistName\n",
       "Justin Timberlake      986.205317\n",
       "OneRepublic            406.195600\n",
       "Bastille               245.144817\n",
       "Taylor Swift           213.585050\n",
       "Shawn Mendes           175.251733\n",
       "Jon Bellion            165.307850\n",
       "Imagine Dragons        162.599167\n",
       "Panic! At The Disco    126.572917\n",
       "Twenty One Pilots       89.237950\n",
       "Train                   86.438217\n",
       "Charlie Puth            80.348933\n",
       "Zedd                    75.933667\n",
       "Avicii                  73.708867\n",
       "Beyoncé                 64.533517\n",
       "Ed Sheeran              64.315383\n",
       "Name: msPlayed, dtype: float64"
      ]
     },
     "execution_count": 6,
     "metadata": {},
     "output_type": "execute_result"
    }
   ],
   "source": [
    "# minutes played\n",
    "(sp_df.groupby(['artistName'])['msPlayed'].sum() / 1000 / 60).sort_values(ascending=False)[:15]"
   ]
  },
  {
   "cell_type": "code",
   "execution_count": 7,
   "metadata": {},
   "outputs": [
    {
     "data": {
      "text/plain": [
       "Mirrors                                                                         46\n",
       "LoveStoned / I Think She Knows (Interlude)                                      20\n",
       "My Love (feat. T.I.)                                                            16\n",
       "Nothin' Else                                                                    13\n",
       "Say Something (feat. Chris Stapleton)                                           13\n",
       "Rock Your Body                                                                  11\n",
       "Cry Me a River                                                                   8\n",
       "Until the End of Time                                                            8\n",
       "Chop Me Up (feat. Timbaland & Three-6 Mafia)                                     5\n",
       "SexyBack (feat. Timbaland)                                                       5\n",
       "Medley: Let Me Talk to You / My Love (feat. T.I.)                                4\n",
       "What Goes Around.../...Comes Around (Interlude)                                  4\n",
       "CAN'T STOP THE FEELING! (Original Song from DreamWorks Animation's \"TROLLS\")     3\n",
       "Losing My Way                                                                    2\n",
       "Summer Love                                                                      2\n",
       "FutureSex / LoveSound                                                            2\n",
       "LoveStoned / I Think She Knows - Justice Remix                                   1\n",
       "(Oh No) What You Got                                                             1\n",
       "Like I Love You                                                                  1\n",
       "Señorita                                                                         1\n",
       "Take Back the Night                                                              1\n",
       "Filthy                                                                           1\n",
       "My Love - Steve Angello & Sebastian Ingrosso Mix                                 1\n",
       "Take It From Here                                                                1\n",
       "LoveStoned / I Think She Knows - Tiësto Remix                                    1\n",
       "Name: trackName, dtype: int64"
      ]
     },
     "execution_count": 7,
     "metadata": {},
     "output_type": "execute_result"
    }
   ],
   "source": [
    "sp_df[ sp_df['artistName'] == 'Justin Timberlake' ]['trackName'].value_counts()"
   ]
  },
  {
   "cell_type": "code",
   "execution_count": 8,
   "metadata": {},
   "outputs": [
    {
     "data": {
      "text/html": [
       "<div>\n",
       "<style scoped>\n",
       "    .dataframe tbody tr th:only-of-type {\n",
       "        vertical-align: middle;\n",
       "    }\n",
       "\n",
       "    .dataframe tbody tr th {\n",
       "        vertical-align: top;\n",
       "    }\n",
       "\n",
       "    .dataframe thead th {\n",
       "        text-align: right;\n",
       "    }\n",
       "</style>\n",
       "<table border=\"1\" class=\"dataframe\">\n",
       "  <thead>\n",
       "    <tr style=\"text-align: right;\">\n",
       "      <th></th>\n",
       "      <th>endTime</th>\n",
       "      <th>artistName</th>\n",
       "      <th>trackName</th>\n",
       "      <th>msPlayed</th>\n",
       "      <th>Month</th>\n",
       "      <th>Date</th>\n",
       "      <th>Year</th>\n",
       "      <th>Day</th>\n",
       "    </tr>\n",
       "  </thead>\n",
       "  <tbody>\n",
       "    <tr>\n",
       "      <th>0</th>\n",
       "      <td>2021-01-01 20:02</td>\n",
       "      <td>OneRepublic</td>\n",
       "      <td>Better</td>\n",
       "      <td>204386</td>\n",
       "      <td>1</td>\n",
       "      <td>1</td>\n",
       "      <td>2021</td>\n",
       "      <td>Fri</td>\n",
       "    </tr>\n",
       "    <tr>\n",
       "      <th>1</th>\n",
       "      <td>2021-01-01 20:05</td>\n",
       "      <td>OneRepublic</td>\n",
       "      <td>Love Runs Out</td>\n",
       "      <td>224226</td>\n",
       "      <td>1</td>\n",
       "      <td>1</td>\n",
       "      <td>2021</td>\n",
       "      <td>Fri</td>\n",
       "    </tr>\n",
       "    <tr>\n",
       "      <th>2</th>\n",
       "      <td>2021-01-01 20:09</td>\n",
       "      <td>Axwell /\\ Ingrosso</td>\n",
       "      <td>More Than You Know</td>\n",
       "      <td>203000</td>\n",
       "      <td>1</td>\n",
       "      <td>1</td>\n",
       "      <td>2021</td>\n",
       "      <td>Fri</td>\n",
       "    </tr>\n",
       "    <tr>\n",
       "      <th>3</th>\n",
       "      <td>2021-01-01 20:13</td>\n",
       "      <td>Stromae</td>\n",
       "      <td>ave cesaria</td>\n",
       "      <td>249520</td>\n",
       "      <td>1</td>\n",
       "      <td>1</td>\n",
       "      <td>2021</td>\n",
       "      <td>Fri</td>\n",
       "    </tr>\n",
       "    <tr>\n",
       "      <th>4</th>\n",
       "      <td>2021-01-01 20:15</td>\n",
       "      <td>Panic! At The Disco</td>\n",
       "      <td>Emperor's New Clothes</td>\n",
       "      <td>158666</td>\n",
       "      <td>1</td>\n",
       "      <td>1</td>\n",
       "      <td>2021</td>\n",
       "      <td>Fri</td>\n",
       "    </tr>\n",
       "    <tr>\n",
       "      <th>...</th>\n",
       "      <td>...</td>\n",
       "      <td>...</td>\n",
       "      <td>...</td>\n",
       "      <td>...</td>\n",
       "      <td>...</td>\n",
       "      <td>...</td>\n",
       "      <td>...</td>\n",
       "      <td>...</td>\n",
       "    </tr>\n",
       "    <tr>\n",
       "      <th>1204</th>\n",
       "      <td>2021-02-09 18:20</td>\n",
       "      <td>Jon Bellion</td>\n",
       "      <td>All Time Low</td>\n",
       "      <td>217603</td>\n",
       "      <td>2</td>\n",
       "      <td>9</td>\n",
       "      <td>2021</td>\n",
       "      <td>Tue</td>\n",
       "    </tr>\n",
       "    <tr>\n",
       "      <th>1205</th>\n",
       "      <td>2021-02-09 18:24</td>\n",
       "      <td>AJR</td>\n",
       "      <td>My Calling</td>\n",
       "      <td>236400</td>\n",
       "      <td>2</td>\n",
       "      <td>9</td>\n",
       "      <td>2021</td>\n",
       "      <td>Tue</td>\n",
       "    </tr>\n",
       "    <tr>\n",
       "      <th>1206</th>\n",
       "      <td>2021-02-09 20:10</td>\n",
       "      <td>Bastille</td>\n",
       "      <td>Good Lesson</td>\n",
       "      <td>210933</td>\n",
       "      <td>2</td>\n",
       "      <td>9</td>\n",
       "      <td>2021</td>\n",
       "      <td>Tue</td>\n",
       "    </tr>\n",
       "    <tr>\n",
       "      <th>1207</th>\n",
       "      <td>2021-02-09 20:13</td>\n",
       "      <td>American Authors</td>\n",
       "      <td>I Wanna Go Out</td>\n",
       "      <td>186000</td>\n",
       "      <td>2</td>\n",
       "      <td>9</td>\n",
       "      <td>2021</td>\n",
       "      <td>Tue</td>\n",
       "    </tr>\n",
       "    <tr>\n",
       "      <th>1208</th>\n",
       "      <td>2021-02-09 20:17</td>\n",
       "      <td>Grouplove</td>\n",
       "      <td>Tongue Tied</td>\n",
       "      <td>218013</td>\n",
       "      <td>2</td>\n",
       "      <td>9</td>\n",
       "      <td>2021</td>\n",
       "      <td>Tue</td>\n",
       "    </tr>\n",
       "  </tbody>\n",
       "</table>\n",
       "<p>1209 rows × 8 columns</p>\n",
       "</div>"
      ],
      "text/plain": [
       "               endTime           artistName              trackName  msPlayed  \\\n",
       "0     2021-01-01 20:02          OneRepublic                 Better    204386   \n",
       "1     2021-01-01 20:05          OneRepublic          Love Runs Out    224226   \n",
       "2     2021-01-01 20:09   Axwell /\\ Ingrosso     More Than You Know    203000   \n",
       "3     2021-01-01 20:13              Stromae            ave cesaria    249520   \n",
       "4     2021-01-01 20:15  Panic! At The Disco  Emperor's New Clothes    158666   \n",
       "...                ...                  ...                    ...       ...   \n",
       "1204  2021-02-09 18:20          Jon Bellion           All Time Low    217603   \n",
       "1205  2021-02-09 18:24                  AJR             My Calling    236400   \n",
       "1206  2021-02-09 20:10             Bastille            Good Lesson    210933   \n",
       "1207  2021-02-09 20:13     American Authors         I Wanna Go Out    186000   \n",
       "1208  2021-02-09 20:17            Grouplove            Tongue Tied    218013   \n",
       "\n",
       "      Month  Date  Year  Day  \n",
       "0         1     1  2021  Fri  \n",
       "1         1     1  2021  Fri  \n",
       "2         1     1  2021  Fri  \n",
       "3         1     1  2021  Fri  \n",
       "4         1     1  2021  Fri  \n",
       "...     ...   ...   ...  ...  \n",
       "1204      2     9  2021  Tue  \n",
       "1205      2     9  2021  Tue  \n",
       "1206      2     9  2021  Tue  \n",
       "1207      2     9  2021  Tue  \n",
       "1208      2     9  2021  Tue  \n",
       "\n",
       "[1209 rows x 8 columns]"
      ]
     },
     "execution_count": 8,
     "metadata": {},
     "output_type": "execute_result"
    }
   ],
   "source": [
    "sp_df['Month'] = sp_df['endTime'].apply(lambda x: datetime.datetime.strptime(x, '%Y-%m-%d %H:%M').month)\n",
    "sp_df['Date'] = sp_df['endTime'].apply(lambda x: datetime.datetime.strptime(x, '%Y-%m-%d %H:%M').day)\n",
    "sp_df['Year'] = sp_df['endTime'].apply(lambda x: datetime.datetime.strptime(x, '%Y-%m-%d %H:%M').year)\n",
    "sp_df['Day'] = sp_df['endTime'].apply(lambda x: week_days[datetime.datetime.strptime(x, '%Y-%m-%d %H:%M').weekday()])\n",
    "sp_df"
   ]
  },
  {
   "cell_type": "code",
   "execution_count": 9,
   "metadata": {},
   "outputs": [
    {
     "data": {
      "image/png": "[encoded data removed]",
      "text/plain": [
       "<Figure size 720x432 with 1 Axes>"
      ]
     },
     "metadata": {
      "needs_background": "light"
     },
     "output_type": "display_data"
    }
   ],
   "source": [
    "sfy.listensPerDay(sp_df, 1, 2021)"
   ]
  },
  {
   "cell_type": "code",
   "execution_count": 11,
   "metadata": {},
   "outputs": [
    {
     "data": {
      "text/plain": [
       "<matplotlib.axes._subplots.AxesSubplot at 0x16548689518>"
      ]
     },
     "execution_count": 11,
     "metadata": {},
     "output_type": "execute_result"
    },
    {
     "data": {
      "image/png": "[encoded data removed]",
      "text/plain": [
       "<Figure size 432x288 with 1 Axes>"
      ]
     },
     "metadata": {
      "needs_background": "light"
     },
     "output_type": "display_data"
    }
   ],
   "source": [
    "# average per day of week\n",
    "\n",
    "# bar graph\n",
    "day_count = sp_df.groupby(['Day']).count()['artistName'].reindex(['Sun', 'Mon', 'Tue', 'Wed', 'Thu', 'Fri', 'Sat'])\n",
    "day_count.plot.bar()\n",
    "\n",
    "# take average?"
   ]
  },
  {
   "cell_type": "code",
   "execution_count": 12,
   "metadata": {},
   "outputs": [
    {
     "data": {
      "text/plain": [
       "<matplotlib.axes._subplots.AxesSubplot at 0x16548a567b8>"
      ]
     },
     "execution_count": 12,
     "metadata": {},
     "output_type": "execute_result"
    },
    {
     "data": {
      "image/png": "[encoded data removed]",
      "text/plain": [
       "<Figure size 432x288 with 1 Axes>"
      ]
     },
     "metadata": {
      "needs_background": "light"
     },
     "output_type": "display_data"
    }
   ],
   "source": [
    "# total per month\n",
    "day_count = sp_df.groupby(['Month']).count()['artistName']\n",
    "day_count.index = list(map(lambda x: months[x], day_count.index.tolist()))\n",
    "day_count.plot.bar()"
   ]
  },
  {
   "cell_type": "code",
   "execution_count": 13,
   "metadata": {},
   "outputs": [
    {
     "data": {
      "text/plain": [
       "<matplotlib.axes._subplots.AxesSubplot at 0x16548adf978>"
      ]
     },
     "execution_count": 13,
     "metadata": {},
     "output_type": "execute_result"
    },
    {
     "data": {
      "image/png": "[encoded data removed]",
      "text/plain": [
       "<Figure size 432x288 with 1 Axes>"
      ]
     },
     "metadata": {
      "needs_background": "light"
     },
     "output_type": "display_data"
    }
   ],
   "source": [
    "# average per day per month\n",
    "\n",
    "day_count = sp_df.groupby(['Month']).count()['artistName']\n",
    "\n",
    "months_dict = {}\n",
    "\n",
    "for t in pd.unique(list(zip(sp_df['Month'], sp_df['Year']))):\n",
    "    if t[0] not in months_dict:\n",
    "        months_dict[t[0]] = 0\n",
    "    months_dict[t[0]] += monthrange(t[1], t[0])[1]\n",
    "\n",
    "stt = datetime.datetime.strptime(sp_df.loc[0]['endTime'].split()[0], '%Y-%m-%d')\n",
    "end = datetime.datetime.strptime(sp_df.loc[len(sp_df)-1]['endTime'].split()[0], '%Y-%m-%d')\n",
    "\n",
    "# subtract off for start and end\n",
    "months_dict[stt.month] -= stt.day - 1\n",
    "months_dict[end.month] -= monthrange(end.year, end.month)[1] - end.day\n",
    "\n",
    "# get the averages\n",
    "for key in months_dict.keys():\n",
    "    day_count[key] /= months_dict[key]\n",
    "    \n",
    "day_count.index = list(map(lambda x: months[x], day_count.index.tolist()))\n",
    "day_count.plot.bar()"
   ]
  },
  {
   "cell_type": "code",
   "execution_count": null,
   "metadata": {},
   "outputs": [],
   "source": []
  },
  {
   "cell_type": "code",
   "execution_count": 19,
   "metadata": {},
   "outputs": [
    {
     "name": "stdout",
     "output_type": "stream",
     "text": [
      "115.54105213675214 minutes per day\n",
      "31.0 plays per day\n"
     ]
    }
   ],
   "source": [
    "# plays/time per day\n",
    "\n",
    "# total number of days\n",
    "stt = datetime.datetime.strptime(sp_df.loc[0]['endTime'].split()[0], '%Y-%m-%d')\n",
    "end = datetime.datetime.strptime(sp_df.loc[len(sp_df)-1]['endTime'].split()[0], '%Y-%m-%d')\n",
    "# (end-stt).days # total days\n",
    "\n",
    "# minutes per day\n",
    "minutes = sp_df['msPlayed'].sum() / 1000 / 60\n",
    "minutes_per_day = minutes / (end-stt).days\n",
    "print(minutes_per_day, \"minutes per day\")\n",
    "\n",
    "# plays per day\n",
    "plays_per_day = len(sp_df) / (end-stt).days\n",
    "print(plays_per_day, \"plays per day\")"
   ]
  },
  {
   "cell_type": "code",
   "execution_count": null,
   "metadata": {},
   "outputs": [],
   "source": [
    "# top artist(s) by day of week\n"
   ]
  },
  {
   "cell_type": "code",
   "execution_count": null,
   "metadata": {},
   "outputs": [],
   "source": [
    "# top artist and track for each month\n"
   ]
  }
 ],
 "metadata": {
  "kernelspec": {
   "display_name": "Python 3",
   "language": "python",
   "name": "python3"
  },
  "language_info": {
   "codemirror_mode": {
    "name": "ipython",
    "version": 3
   },
   "file_extension": ".py",
   "mimetype": "text/x-python",
   "name": "python",
   "nbconvert_exporter": "python",
   "pygments_lexer": "ipython3",
   "version": "3.7.3"
  }
 },
 "nbformat": 4,
 "nbformat_minor": 4
}
