{
 "cells": [
  {
   "cell_type": "code",
   "execution_count": 1,
   "metadata": {},
   "outputs": [],
   "source": [
    "%matplotlib inline\n",
    "\n",
    "import ipywidgets as wg\n",
    "from IPython.display import display\n",
    "\n",
    "import matplotlib.pyplot as plt\n",
    "import spotify_fcns as sfy\n",
    "import pandas as pd\n",
    "\n",
    "\n",
    "plt.rcParams['font.size'] = 14\n",
    "\n",
    "# Helpful Links:\n",
    "# https://stackoverflow.com/questions/50842160/how-to-display-matplotlib-plots-in-a-jupyter-tab-widget \n",
    "# ^ putting plt.show() in the with block, I had it outside before\n",
    "\n"
   ]
  },
  {
   "cell_type": "markdown",
   "metadata": {},
   "source": [
    "Please choose your timezone. (Central Standard Time by default)  \n",
    "(Ex: CST = -6)"
   ]
  },
  {
   "cell_type": "code",
   "execution_count": 2,
   "metadata": {
    "scrolled": true
   },
   "outputs": [
    {
     "data": {
      "application/vnd.jupyter.widget-view+json": {
       "model_id": "7898fe2891644459bca00c539f36a070",
       "version_major": 2,
       "version_minor": 0
      },
      "text/plain": [
       "IntSlider(value=0, max=12, min=-11)"
      ]
     },
     "metadata": {},
     "output_type": "display_data"
    }
   ],
   "source": [
    "# Get Time Zone\n",
    "tzd = -6\n",
    "\n",
    "tzw = wg.IntSlider(min=-11, max=12)\n",
    "btn = wg.Button(description='Enter Time Zone')\n",
    "display(tzw) # btn\n",
    "\n",
    "def tzBtnClicked(b):\n",
    "    global tzd\n",
    "    tzd = tzw.value\n",
    "    # tzw.close()\n",
    "    # b.close()\n",
    "    \n",
    "btn.on_click(tzBtnClicked)"
   ]
  },
  {
   "cell_type": "code",
   "execution_count": 3,
   "metadata": {
    "scrolled": false
   },
   "outputs": [
    {
     "data": {
      "application/vnd.jupyter.widget-view+json": {
       "model_id": "c124713628a74da681b9222d1a173066",
       "version_major": 2,
       "version_minor": 0
      },
      "text/plain": [
       "FileUpload(value={}, accept='.json', description='Upload', multiple=True)"
      ]
     },
     "metadata": {},
     "output_type": "display_data"
    },
    {
     "data": {
      "application/vnd.jupyter.widget-view+json": {
       "model_id": "0623e3d1d2874e24b29d1f0d8518a152",
       "version_major": 2,
       "version_minor": 0
      },
      "text/plain": [
       "Button(description='Show Stats', style=ButtonStyle())"
      ]
     },
     "metadata": {},
     "output_type": "display_data"
    },
    {
     "data": {
      "application/vnd.jupyter.widget-view+json": {
       "model_id": "c594d21ed94e4213a8dc46858711a83f",
       "version_major": 2,
       "version_minor": 0
      },
      "text/plain": [
       "HTML(value='')"
      ]
     },
     "metadata": {},
     "output_type": "display_data"
    },
    {
     "data": {
      "application/vnd.jupyter.widget-view+json": {
       "model_id": "95cc0090f14447ab90ec3dd28bdbcb61",
       "version_major": 2,
       "version_minor": 0
      },
      "text/plain": [
       "HTML(value='')"
      ]
     },
     "metadata": {},
     "output_type": "display_data"
    },
    {
     "data": {
      "application/vnd.jupyter.widget-view+json": {
       "model_id": "0f4e4aa4ca0f4222ad84ac7b512e520b",
       "version_major": 2,
       "version_minor": 0
      },
      "text/plain": [
       "GridspecLayout(layout=Layout(height='auto', width='100%'))"
      ]
     },
     "metadata": {},
     "output_type": "display_data"
    },
    {
     "name": "stdout",
     "output_type": "stream",
     "text": [
      "1209 plays found across 1 files.\n"
     ]
    }
   ],
   "source": [
    "# Get Data\n",
    "fileup = wg.FileUpload(accept='.json', multiple=True)\n",
    "btn = wg.Button(description='Show Stats')\n",
    "\n",
    "out_ta = wg.Output(layout={'width':'auto', 'height': 'auto', \"border\":\"\"})\n",
    "out_tt = wg.Output(layout={'width':'auto', 'height': 'auto', \"border\":\"\"})\n",
    "out_plt1 = wg.Output(layout={'width':'auto', 'height': 'auto', \"border\":\"\"})\n",
    "out_plt2 = wg.Output(layout={'width':'auto', 'height': 'auto', \"border\":\"\"})\n",
    "out_plt3 = wg.Output(layout={'width':'auto', 'height': 'auto', \"border\":\"\"})\n",
    "out_plt4 = wg.Output(layout={'width':'auto', 'height': 'auto', \"border\":\"\"})\n",
    "out_plt5 = wg.Output(layout={'width':'auto', 'height': 'auto', \"border\":\"\"})\n",
    "out_plt6 = wg.Output(layout={'width':'auto', 'height': 'auto', \"border\":\"\"})\n",
    "\n",
    "grid = wg.GridspecLayout(20, 2, height='auto', width='50%')\n",
    "stats_header = wg.HTML()\n",
    "plots_header = wg.HTML()\n",
    "grid_plots = wg.GridspecLayout(20, 8, height='auto', width='100%')\n",
    "\n",
    "display(fileup, btn, stats_header, plots_header, grid_plots)\n",
    "\n",
    "def fileBtnClicked(b):\n",
    "    global sp_df, tzd\n",
    "    tzd = tzw.value\n",
    "    sp_df = sfy.getDataV(fileup.value)\n",
    "    \n",
    "    # maybe don't need?\n",
    "    out_ta.clear_output()\n",
    "    out_tt.clear_output()\n",
    "    out_plt1.clear_output()\n",
    "    out_plt2.clear_output()\n",
    "    out_plt3.clear_output()\n",
    "    out_plt4.clear_output()\n",
    "    out_plt5.clear_output()\n",
    "    out_plt6.clear_output()\n",
    "    \n",
    "    out_ta.append_display_data(sfy.getTopArtists(sp_df)[:15]) \n",
    "    out_tt.append_display_data(sfy.getTopTracks(sp_df)[:15])\n",
    "    \n",
    "    stats_header.value = '<h1><center>Statistics</center></h1>'\n",
    "    plots_header.value = '<h1><center>Plots</center></h1>'\n",
    "    \n",
    "    # Filling in the grid\n",
    "    # stats\n",
    "    grid[0, 0:2] = wg.HTML(value='<b style=\"color:SlateBlue\">{:.2f} hours listening to music</b>'.format(sfy.getMinutes(sp_df) / 60), \n",
    "                         layout={'height': '15px'})\n",
    "    \n",
    "    # titles for data\n",
    "    grid[1:3, 0] = wg.HTML(value='<h2><center>Top Artists</center></h2>') \n",
    "    \n",
    "    grid[1:3, 1] = wg.HTML(value='<h2><center>Top Tracks</center></h2>')\n",
    "    \n",
    "    # data - top 15 artists and tracks\n",
    "    grid[3:, 0] = out_ta\n",
    "    grid[3:, 1] = out_tt\n",
    "    \n",
    "    # add time columns\n",
    "    sp_df = sfy.addTimeData(sp_df, tzd)\n",
    "    \n",
    "    # Filling in the plot grid\n",
    "    with out_plt1:\n",
    "        fig = sfy.totalMonth(sp_df) \n",
    "        plt.show()\n",
    "    \n",
    "    with out_plt2:\n",
    "        fig = sfy.playsDayWeek(sp_df) \n",
    "        plt.show()\n",
    "    \n",
    "    with out_plt3:\n",
    "        fig = sfy.topTrackByDay(sp_df)[0]\n",
    "        plt.show()\n",
    "        \n",
    "    with out_plt4:\n",
    "        fig = sfy.topArtistByDay(sp_df)[0]\n",
    "        plt.show()\n",
    "        \n",
    "    with out_plt5:\n",
    "        fig = sfy.playsByHour(sp_df)[0]\n",
    "        plt.show()\n",
    "    \n",
    "    with out_plt6:\n",
    "        fig = sfy.topArtistByDayPie(sp_df)[0]\n",
    "        plt.show()\n",
    "    \n",
    "    grid_plots[0:4, 0:4] = out_plt1\n",
    "    grid_plots[0:4, 4:8] = out_plt2\n",
    "    grid_plots[4:8, 0:4] = out_plt3\n",
    "    grid_plots[4:8, 4:8] = out_plt4\n",
    "    grid_plots[8:12, 0:8] = out_plt5\n",
    "    grid_plots[12:20, 0:8] = out_plt6\n",
    "    \n",
    "    return\n",
    "\n",
    "btn.on_click(fileBtnClicked)"
   ]
  },
  {
   "cell_type": "code",
   "execution_count": 4,
   "metadata": {},
   "outputs": [],
   "source": [
    "# simplify design so one button that saves timezone and displays everything?\n",
    "# or option to display everything and then a dropdown that lets you pick\n",
    "\n",
    "\n",
    "# minimalist stats/graphs\n",
    "# choose from options\n"
   ]
  },
  {
   "cell_type": "code",
   "execution_count": null,
   "metadata": {},
   "outputs": [],
   "source": []
  }
 ],
 "metadata": {
  "kernelspec": {
   "display_name": "Python 3",
   "language": "python",
   "name": "python3"
  },
  "language_info": {
   "codemirror_mode": {
    "name": "ipython",
    "version": 3
   },
   "file_extension": ".py",
   "mimetype": "text/x-python",
   "name": "python",
   "nbconvert_exporter": "python",
   "pygments_lexer": "ipython3",
   "version": "3.7.3"
  }
 },
 "nbformat": 4,
 "nbformat_minor": 4
}
